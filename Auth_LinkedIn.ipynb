{
 "cells": [
  {
   "cell_type": "code",
   "id": "initial_id",
   "metadata": {
    "collapsed": true,
    "jupyter": {
     "is_executing": true
    },
    "ExecuteTime": {
     "start_time": "2025-01-15T19:03:00.138936Z"
    }
   },
   "source": [
    "from flask import Flask, request\n",
    "import requests\n",
    "\n",
    "app = Flask(__name__)\n",
    "\n",
    "# Client details\n",
    "CLIENT_ID = \"77uspo43fpxfwi\"  # Client ID from the LinkedIn Developer Portal\n",
    "CLIENT_SECRET = \"WPL_AP1.kYbHWpHfS5hfxWGZ.XZNXDg==\"  # Client Secret\n",
    "REDIRECT_URI = \"https://0f4b-2a06-c701-70be-2700-2db6-6b58-bb83-9ece.ngrok-free.app/callback\"  # Redirect URL for ngrok\n",
    "scope = \"openid profile email\"\n",
    "state = \"12345\"\n",
    "\n",
    "# Route for the homepage\n",
    "@app.route('/')\n",
    "def home():\n",
    "    auth_url = f\"https://www.linkedin.com/oauth/v2/authorization?response_type=code&client_id={CLIENT_ID}&redirect_uri={REDIRECT_URI}&scope={scope}&state={state}\"\n",
    "    print(auth_url)\n",
    "    return f'<a href=\"{auth_url}\">Connect to LinkedIn</a>'\n",
    "\n",
    "# Route for the callback\n",
    "@app.route('/callback')\n",
    "def callback():\n",
    "    print(request.args)\n",
    "    code = request.args.get(\"code\")\n",
    "    if not code:\n",
    "        return \"Authorization failed. No code received.\"\n",
    "\n",
    "    # Request for Access Token\n",
    "    token_url = \"https://www.linkedin.com/oauth/v2/accessToken\"\n",
    "    data = {\n",
    "        \"grant_type\": \"authorization_code\",\n",
    "        \"code\": code,\n",
    "        \"redirect_uri\": REDIRECT_URI,\n",
    "        \"client_id\": CLIENT_ID,\n",
    "        \"client_secret\": CLIENT_SECRET,\n",
    "    }\n",
    "    response = requests.post(token_url, data=data)\n",
    "    access_token = response.json().get(\"access_token\")\n",
    "\n",
    "    if not access_token:\n",
    "        return \"Failed to obtain access token.\"\n",
    "\n",
    "    # Request for user profile and email\n",
    "    headers = {\"Authorization\": f\"Bearer {access_token}\"}\n",
    "    userinfo_response = requests.get(\"https://api.linkedin.com/v2/userinfo\", headers=headers)\n",
    "\n",
    "    return f\"User Info: {userinfo_response.json()}\"\n",
    "\n",
    "if __name__ == '__main__':\n",
    "    app.run(port=8000)\n"
   ],
   "outputs": [
    {
     "name": "stdout",
     "output_type": "stream",
     "text": [
      " * Serving Flask app '__main__'\n",
      " * Debug mode: off\n"
     ]
    },
    {
     "name": "stderr",
     "output_type": "stream",
     "text": [
      "WARNING: This is a development server. Do not use it in a production deployment. Use a production WSGI server instead.\n",
      " * Running on http://127.0.0.1:8000\n",
      "Press CTRL+C to quit\n",
      "127.0.0.1 - - [15/Jan/2025 21:03:09] \"GET / HTTP/1.1\" 200 -\n"
     ]
    },
    {
     "name": "stdout",
     "output_type": "stream",
     "text": [
      "https://www.linkedin.com/oauth/v2/authorization?response_type=code&client_id=77uspo43fpxfwi&redirect_uri=https://0f4b-2a06-c701-70be-2700-2db6-6b58-bb83-9ece.ngrok-free.app/callback&scope=openid profile email&state=12345\n"
     ]
    },
    {
     "name": "stderr",
     "output_type": "stream",
     "text": [
      "127.0.0.1 - - [15/Jan/2025 21:03:16] \"GET / HTTP/1.1\" 200 -\n"
     ]
    },
    {
     "name": "stdout",
     "output_type": "stream",
     "text": [
      "https://www.linkedin.com/oauth/v2/authorization?response_type=code&client_id=77uspo43fpxfwi&redirect_uri=https://0f4b-2a06-c701-70be-2700-2db6-6b58-bb83-9ece.ngrok-free.app/callback&scope=openid profile email&state=12345\n"
     ]
    },
    {
     "name": "stderr",
     "output_type": "stream",
     "text": [
      "127.0.0.1 - - [15/Jan/2025 21:08:46] \"GET / HTTP/1.1\" 200 -\n"
     ]
    },
    {
     "name": "stdout",
     "output_type": "stream",
     "text": [
      "https://www.linkedin.com/oauth/v2/authorization?response_type=code&client_id=77uspo43fpxfwi&redirect_uri=https://0f4b-2a06-c701-70be-2700-2db6-6b58-bb83-9ece.ngrok-free.app/callback&scope=openid profile email&state=12345\n"
     ]
    },
    {
     "name": "stderr",
     "output_type": "stream",
     "text": [
      "127.0.0.1 - - [15/Jan/2025 21:08:52] \"GET / HTTP/1.1\" 200 -\n"
     ]
    },
    {
     "name": "stdout",
     "output_type": "stream",
     "text": [
      "https://www.linkedin.com/oauth/v2/authorization?response_type=code&client_id=77uspo43fpxfwi&redirect_uri=https://0f4b-2a06-c701-70be-2700-2db6-6b58-bb83-9ece.ngrok-free.app/callback&scope=openid profile email&state=12345\n"
     ]
    },
    {
     "name": "stderr",
     "output_type": "stream",
     "text": [
      "127.0.0.1 - - [15/Jan/2025 21:08:52] \"GET /favicon.ico HTTP/1.1\" 404 -\n"
     ]
    },
    {
     "name": "stdout",
     "output_type": "stream",
     "text": [
      "ImmutableMultiDict([('code', 'AQRFCvoBuEv5FLF77qb7R4RGNja3GG5vgGvyBvJC48G6im9TF8rU1irCSI9iRA29q-8lii9XmrGCRDZDdfc9FjyPnXCOBIG3CHwZbfW3ABFBa8tUJQ_5vy9ewcaRc33H02QO3Yn-zkxeQf4ZbTlWP2wG0bgeyy7r6-jdoDnc2HyCXB8cYpSHn-3nOkn7ElLPhB4I7kJ2VdvdBKwnzlg'), ('state', '12345')])\n"
     ]
    },
    {
     "name": "stderr",
     "output_type": "stream",
     "text": [
      "127.0.0.1 - - [15/Jan/2025 21:10:09] \"GET /callback?code=AQRFCvoBuEv5FLF77qb7R4RGNja3GG5vgGvyBvJC48G6im9TF8rU1irCSI9iRA29q-8lii9XmrGCRDZDdfc9FjyPnXCOBIG3CHwZbfW3ABFBa8tUJQ_5vy9ewcaRc33H02QO3Yn-zkxeQf4ZbTlWP2wG0bgeyy7r6-jdoDnc2HyCXB8cYpSHn-3nOkn7ElLPhB4I7kJ2VdvdBKwnzlg&state=12345 HTTP/1.1\" 200 -\n",
      "127.0.0.1 - - [15/Jan/2025 21:13:32] \"GET / HTTP/1.1\" 200 -\n"
     ]
    },
    {
     "name": "stdout",
     "output_type": "stream",
     "text": [
      "https://www.linkedin.com/oauth/v2/authorization?response_type=code&client_id=77uspo43fpxfwi&redirect_uri=https://0f4b-2a06-c701-70be-2700-2db6-6b58-bb83-9ece.ngrok-free.app/callback&scope=openid profile email&state=12345\n"
     ]
    },
    {
     "name": "stderr",
     "output_type": "stream",
     "text": [
      "127.0.0.1 - - [15/Jan/2025 22:10:16] \"GET / HTTP/1.1\" 200 -\n",
      "127.0.0.1 - - [15/Jan/2025 22:10:17] \""
     ]
    },
    {
     "name": "stdout",
     "output_type": "stream",
     "text": [
      "https://www.linkedin.com/oauth/v2/authorization?response_type=code&client_id=77uspo43fpxfwi&redirect_uri=https://0f4b-2a06-c701-70be-2700-2db6-6b58-bb83-9ece.ngrok-free.app/callback&scope=openid profile email&state=12345\n"
     ]
    },
    {
     "name": "stderr",
     "output_type": "stream",
     "text": [
      "GET /favicon.ico HTTP/1.1\" 404 -\n"
     ]
    },
    {
     "name": "stdout",
     "output_type": "stream",
     "text": [
      "ImmutableMultiDict([('code', 'AQRWNcEaZr4rIq07GCgvI4rduB8aQWpWpT2JwCTOlN0aHPob-iq_s4v5spWOh7Fax--5fA9xCby9V8Ef7NzPmljXUs4r9dBSDO18KfDz79OC6vHl9CB7RwT4oQibqA2yTHoHsLSHfvpD5U8MIG1kpQlfOywJMKl71MMbzcd_1FpKUc0upowmzUxq4MlxYGwz4vHe5qhQy7vmJ68l9E0'), ('state', '12345')])\n"
     ]
    },
    {
     "name": "stderr",
     "output_type": "stream",
     "text": [
      "127.0.0.1 - - [15/Jan/2025 22:12:30] \"GET /callback?code=AQRWNcEaZr4rIq07GCgvI4rduB8aQWpWpT2JwCTOlN0aHPob-iq_s4v5spWOh7Fax--5fA9xCby9V8Ef7NzPmljXUs4r9dBSDO18KfDz79OC6vHl9CB7RwT4oQibqA2yTHoHsLSHfvpD5U8MIG1kpQlfOywJMKl71MMbzcd_1FpKUc0upowmzUxq4MlxYGwz4vHe5qhQy7vmJ68l9E0&state=12345 HTTP/1.1\" 200 -\n"
     ]
    }
   ],
   "execution_count": null
  }
 ],
 "metadata": {
  "kernelspec": {
   "display_name": "Python 3",
   "language": "python",
   "name": "python3"
  },
  "language_info": {
   "codemirror_mode": {
    "name": "ipython",
    "version": 2
   },
   "file_extension": ".py",
   "mimetype": "text/x-python",
   "name": "python",
   "nbconvert_exporter": "python",
   "pygments_lexer": "ipython2",
   "version": "2.7.6"
  }
 },
 "nbformat": 4,
 "nbformat_minor": 5
}
