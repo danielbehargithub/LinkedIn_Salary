{
  "nbformat": 4,
  "nbformat_minor": 0,
  "metadata": {
    "colab": {
      "provenance": [],
      "authorship_tag": "ABX9TyOQRsDsFc3TDZC3TMb8F0fm",
      "include_colab_link": true
    },
    "kernelspec": {
      "name": "python3",
      "display_name": "Python 3"
    },
    "language_info": {
      "name": "python"
    }
  },
  "cells": [
    {
      "cell_type": "markdown",
      "metadata": {
        "id": "view-in-github",
        "colab_type": "text"
      },
      "source": [
        "<a href=\"https://colab.research.google.com/github/danielbehargithub/LinkedIn_Salary/blob/main/unused/Feature_Importance.ipynb\" target=\"_parent\"><img src=\"https://colab.research.google.com/assets/colab-badge.svg\" alt=\"Open In Colab\"/></a>"
      ]
    },
    {
      "cell_type": "code",
      "execution_count": 23,
      "metadata": {
        "colab": {
          "base_uri": "https://localhost:8080/"
        },
        "id": "Ol2wHjZZNijY",
        "outputId": "3213b79d-60ed-49ce-fb20-96c8756e9dff"
      },
      "outputs": [
        {
          "output_type": "stream",
          "name": "stdout",
          "text": [
            "Computing feature importances for: Software Engineer\n",
            "{'Experience_Years': 0.56, 'Python': 0.11, 'SQL': 0.12, 'Education_Level': 0.21}\n",
            "----------------------------------------\n",
            "Computing feature importances for: Data Scientist\n",
            "{'Experience_Years': 0.55, 'Python': 0.1, 'SQL': 0.13, 'Education_Level': 0.22}\n",
            "----------------------------------------\n",
            "Computing feature importances for: ML Engineer\n",
            "{'Experience_Years': 0.54, 'Python': 0.12, 'SQL': 0.11, 'Education_Level': 0.23}\n",
            "----------------------------------------\n"
          ]
        }
      ],
      "source": [
        "from sklearn.ensemble import RandomForestClassifier\n",
        "from sklearn.utils import resample\n",
        "import pandas as pd\n",
        "import numpy as np\n",
        "\n",
        "# Generate synthetic data\n",
        "data = pd.DataFrame({\n",
        "    \"Experience_Years\": np.random.randint(3, 10, size=1000),\n",
        "    \"Python\": np.random.choice([0, 1], size=1000, p=[0.5, 0.5]),\n",
        "    \"SQL\": np.random.choice([0, 1], size=1000, p=[0.5, 0.5]),\n",
        "    \"Education_Level\": np.random.choice([1, 2, 3], size=1000, p=[0.3, 0.5, 0.2]),\n",
        "    \"Job_Title\": np.random.choice([\"Data Scientist\", \"Software Engineer\", \"ML Engineer\"], size=1000)\n",
        "})\n",
        "\n",
        "# Function to compute feature importances for a specific job title\n",
        "def compute_feature_importances_for_job(job_title, data):\n",
        "    # Assign labels: 1 for the target job, 0 for other jobs\n",
        "    data[\"Label\"] = np.where(data[\"Job_Title\"] == job_title, 1, 0)\n",
        "\n",
        "    # Split positive and negative examples\n",
        "    positive_data = data[data[\"Label\"] == 1]\n",
        "    negative_data = data[data[\"Label\"] == 0]\n",
        "\n",
        "    # Balance the dataset\n",
        "    negative_data_balanced = resample(negative_data,\n",
        "                                      replace=True,\n",
        "                                      n_samples=len(positive_data),\n",
        "                                      random_state=42)\n",
        "\n",
        "    balanced_data = pd.concat([positive_data, negative_data_balanced])\n",
        "\n",
        "    # Select features and labels\n",
        "    X = balanced_data[[\"Experience_Years\", \"Python\", \"SQL\", \"Education_Level\"]]\n",
        "    y = balanced_data[\"Label\"]\n",
        "\n",
        "    # Train the model\n",
        "    model = RandomForestClassifier(random_state=42)\n",
        "    model.fit(X, y)\n",
        "\n",
        "    # Compute feature importances\n",
        "    importances = model.feature_importances_\n",
        "    feature_importances = {feature: round(importance, 2) for feature, importance in zip(X.columns, importances)}\n",
        "\n",
        "    # Return feature importances\n",
        "    return feature_importances\n",
        "\n",
        "# List of unique job titles\n",
        "job_titles = data[\"Job_Title\"].unique()\n",
        "\n",
        "# Compute feature importances for each job title\n",
        "all_feature_importances = {}\n",
        "for job in job_titles:\n",
        "    print(f\"Computing feature importances for: {job}\")\n",
        "    feature_importances = compute_feature_importances_for_job(job, data)\n",
        "    all_feature_importances[job] = feature_importances\n",
        "    print(feature_importances)\n",
        "    print(\"-\" * 40)\n",
        "\n",
        "# Display the feature importances for all job titles\n",
        "# print(\"Feature Importances per Job Title:\")\n",
        "# for job, importances in all_feature_importances.items():\n",
        "#     print(f\"{job}:\")\n",
        "#     for feature, importance in importances.items():\n",
        "#         print(f\"  {feature}: {importance:.2f}\")\n",
        "#     print(\"-\" * 40)\n",
        "\n"
      ]
    },
    {
      "cell_type": "code",
      "source": [
        "# Function to calculate normalized candidate score\n",
        "def calculate_candidate_score(candidate, weights, max_feature_values):\n",
        "    # Normalize weights to ensure the sum equals 1\n",
        "    total_weight = sum(weights.values())\n",
        "    normalized_weights = {key: value / total_weight for key, value in weights.items()}\n",
        "\n",
        "    # Calculate the max possible score\n",
        "    max_possible_score = sum(normalized_weights[feature] * max_feature_values[feature] for feature in normalized_weights)\n",
        "\n",
        "    # Calculate the candidate's score\n",
        "    candidate_score = sum(candidate[feature] * normalized_weights[feature] for feature in normalized_weights)\n",
        "\n",
        "    # Normalize candidate score to range [0, 1]\n",
        "    normalized_score = candidate_score / max_possible_score\n",
        "    return round(normalized_score, 2)\n",
        "\n",
        "# Example: scoring a new candidate for \"Data Scientist\"\n",
        "new_candidate = {\"Experience_Years\": 5, \"Python\": 1, \"SQL\": 1, \"Education_Level\": 2}\n",
        "\n",
        "# Feature importance weights for \"Data Scientist\"\n",
        "weights = all_feature_importances[job]\n",
        "\n",
        "# Maximum values for each feature\n",
        "max_feature_values = {\"Experience_Years\": 10, \"Python\": 1, \"SQL\": 1, \"Education_Level\": 3}\n",
        "\n",
        "# Call the updated function with all required parameters\n",
        "candidate_score = calculate_candidate_score(new_candidate, weights, max_feature_values)\n",
        "\n",
        "# Print the candidate's normalized score\n",
        "print(f\"Candidate Score for {job}: {candidate_score}\")\n"
      ],
      "metadata": {
        "colab": {
          "base_uri": "https://localhost:8080/"
        },
        "id": "U-25zGvePzQc",
        "outputId": "3a925e71-2219-4eb3-b63a-736981c55930"
      },
      "execution_count": 27,
      "outputs": [
        {
          "output_type": "stream",
          "name": "stdout",
          "text": [
            "Candidate Score for Data Scientist: 0.54\n"
          ]
        }
      ]
    }
  ]
}
