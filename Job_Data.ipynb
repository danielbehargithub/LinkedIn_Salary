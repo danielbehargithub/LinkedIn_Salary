{
 "nbformat": 4,
 "nbformat_minor": 0,
 "metadata": {
  "colab": {
   "provenance": [],
   "authorship_tag": "ABX9TyP2xB1wjjUoYk3Igddg4y2b",
   "include_colab_link": true
  },
  "kernelspec": {
   "name": "python3",
   "display_name": "Python 3"
  },
  "language_info": {
   "name": "python"
  }
 },
 "cells": [
  {
   "cell_type": "markdown",
   "metadata": {
    "id": "view-in-github",
    "colab_type": "text"
   },
   "source": [
    "<a href=\"https://colab.research.google.com/github/danielbehargithub/LinkedIn_Salary/blob/main/Linkdin_Data.ipynb\" target=\"_parent\"><img src=\"https://colab.research.google.com/assets/colab-badge.svg\" alt=\"Open In Colab\"/></a>"
   ]
  },
  {
   "cell_type": "code",
   "source": [
    "!pip install playwright\n",
    "!playwright install\n"
   ],
   "metadata": {
    "id": "qFhhv-L2aLfj"
   },
   "execution_count": null,
   "outputs": []
  },
  {
   "cell_type": "code",
   "source": [
    "from playwright.async_api import async_playwright\n",
    "import asyncio\n",
    "\n",
    "async def scrape_job_posting(job_url):\n",
    "    async with async_playwright() as p:\n",
    "        browser = await p.chromium.launch(headless=True)\n",
    "        context = await browser.new_context(user_agent=\"Mozilla/5.0\")\n",
    "        page = await context.new_page()\n",
    "\n",
    "        await page.goto(job_url)\n",
    "        await asyncio.sleep(5)  # Wait for 5 seconds\n",
    "\n",
    "        # Saving the page's HTML content for debugging purposes\n",
    "        html = await page.content()\n",
    "        with open(\"page_debug.html\", \"w\", encoding=\"utf-8\") as f:\n",
    "            f.write(html)\n",
    "        print(\"Saved page content to page_debug.html\")\n",
    "\n",
    "        # Taking a screenshot of the page for verification\n",
    "        await page.screenshot(path=\"screenshot.png\", full_page=True)\n",
    "        print(\"Screenshot saved as screenshot.png\")\n",
    "\n",
    "\n",
    "        # Extract job title\n",
    "        job_title = await page.inner_text('h1.top-card-layout__title')  # Adjust selector\n",
    "        company = await page.inner_text('a.topcard__org-name-link')  # Adjust selector\n",
    "        location = await page.inner_text('span.topcard__flavor--bullet')  # Adjust selector\n",
    "        description = await page.inner_text('div.show-more-less-html__markup')  # Adjust selector\n",
    "\n",
    "        print(f\"Job Title: {job_title}\")\n",
    "        print(f\"Company: {company}\")\n",
    "        print(f\"Location: {location}\")\n",
    "        print(f\"Description: {description}\")\n",
    "\n",
    "        await browser.close()\n",
    "\n",
    "job_url = \"https://www.linkedin.com/jobs/view/4114601385/\"\n",
    "await scrape_job_posting(job_url)\n"
   ],
   "metadata": {
    "colab": {
     "base_uri": "https://localhost:8080/"
    },
    "id": "vk6t7P-haBED",
    "outputId": "bc85dfc6-d3bb-450f-c6c8-c022ceae6f5d"
   },
   "execution_count": null,
   "outputs": [
    {
     "output_type": "stream",
     "name": "stdout",
     "text": [
      "Saved page content to page_debug.html\n",
      "Screenshot saved as screenshot.png\n",
      "Job Title: Computer Vision Algorithm Engineer\n",
      "Company: Camtek \n",
      "Location:  Migdal HaEmek, North District, Israel\n",
      "Description: Camtek designs, develops, manufactures and markets technologically advanced, cost-effective systems and related software products that are used to enhance processes and yields serving the Advanced Packaging, Memory, CMOS Image Sensors, MEMS, RF, and other segments in the Semiconductors industry.\n",
      "\n",
      "\n",
      "\n",
      "\n",
      "Camtek invites you to work in a global, cutting-edge technology environment and be part of a market leader - join us and nurture your career.\n",
      "\n",
      "\n",
      "\n",
      "\n",
      "Job description\n",
      "\n",
      "Our Algorithm group is looking for a talented, motivated and ambitious Computer Vision Algorithm Engineer, to join us.\n",
      "\n",
      "You will be working in an environment that offers endless learning and growth opportunities.\n",
      "\n",
      "\n",
      "\n",
      "\n",
      "Responsibilities:\n",
      "\n",
      "The position requires study and understanding of Camtek's existing algorithms, with the ability to maintain and improve capabilities, as well as develop and implement new ones, in a complex multidisciplinary environment.\n",
      "\n",
      "\n",
      "\n",
      "\n",
      "Qualifications\n",
      "\n",
      "BSc. in Computer Science / Mathematics / Physics / Electrical engineering or equivalent\n",
      "\n",
      "Experience in Computer Vision and Image Processing algorithms – advantage\n",
      "\n",
      "Experience in developing machine learning and Deep learning algorithms – advantage\n",
      "\n",
      "Experience in C++ programming - must\n",
      "\n",
      "Knowledge in Statistics - advantage\n",
      "\n",
      "Data analysis capabilities.\n",
      "\n",
      "2-3 years of experience in writing algorithms in the MATLAB / Python environment\n",
      "\n",
      "Self-learning academic background – advantage\n",
      "\n",
      "Excellent communication skills (Hebrew and English)\n",
      "\n",
      "Good team member\n"
     ]
    }
   ]
  }
 ]
}
