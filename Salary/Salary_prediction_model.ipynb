{
  "nbformat": 4,
  "nbformat_minor": 0,
  "metadata": {
    "colab": {
      "provenance": [],
      "authorship_tag": "ABX9TyN15mRBvLr+UECmkuNaGtTa",
      "include_colab_link": true
    },
    "kernelspec": {
      "name": "python3",
      "display_name": "Python 3"
    },
    "language_info": {
      "name": "python"
    }
  },
  "cells": [
    {
      "cell_type": "markdown",
      "metadata": {
        "id": "view-in-github",
        "colab_type": "text"
      },
      "source": [
        "<a href=\"https://colab.research.google.com/github/danielbehargithub/LinkedIn_Salary/blob/main/Salary/Salary_prediction_model.ipynb\" target=\"_parent\"><img src=\"https://colab.research.google.com/assets/colab-badge.svg\" alt=\"Open In Colab\"/></a>"
      ]
    },
    {
      "cell_type": "code",
      "source": [
        "!pip install lightgbm\n",
        "!pip install --upgrade lightgbm\n",
        "!pip install pycountry_convert"
      ],
      "metadata": {
        "id": "XYfMFhd1Yjqo"
      },
      "execution_count": null,
      "outputs": []
    },
    {
      "cell_type": "code",
      "execution_count": null,
      "metadata": {
        "id": "IZusVdMqCBH-",
        "outputId": "b8114e0d-e273-4fe1-b1a8-37d4a20076e2",
        "colab": {
          "base_uri": "https://localhost:8080/"
        }
      },
      "outputs": [
        {
          "output_type": "stream",
          "name": "stdout",
          "text": [
            "\n",
            "🔹 Unique value count per categorical column:\n",
            "\n",
            "experience_level: 4 unique values\n",
            "employment_type: 4 unique values\n",
            "employee_residence: 94 unique values\n",
            "company_location: 87 unique values\n",
            "company_size: 3 unique values\n",
            "job_title: 298 unique values\n",
            "remote_ratio: 3 unique values\n"
          ]
        }
      ],
      "source": [
        "from sklearn.model_selection import train_test_split\n",
        "from sklearn.ensemble import RandomForestRegressor\n",
        "from sklearn.metrics import mean_absolute_error, mean_squared_error, r2_score\n",
        "import pandas as pd\n",
        "import numpy as np\n",
        "import matplotlib.pyplot as plt\n",
        "import matplotlib.ticker as mtick\n",
        "import seaborn as sns\n",
        "import pycountry_convert as pc\n",
        "\n",
        "import xgboost as xgb\n",
        "import lightgbm as lgb\n",
        "\n",
        "# Load the dataset\n",
        "data = pd.read_csv('salaries.csv')\n",
        "data = data.drop(columns=[\"salary\", \"salary_currency\"])\n",
        "\n",
        "# Identify categorical columns dynamically (excluding the target column)\n",
        "categorical_columns = [\n",
        "    'experience_level', 'employment_type', 'employee_residence',\n",
        "    'company_location', 'company_size', 'job_title', 'remote_ratio'\n",
        "]\n",
        "\n",
        "# Convert categorical columns to categorical dtype\n",
        "for col in categorical_columns:\n",
        "    data[col] = data[col].astype('category')\n",
        "\n",
        "\n",
        "# Print the number of unique values for each categorical column\n",
        "print(\"\\n🔹 Unique value count per categorical column:\\n\")\n",
        "for col in categorical_columns:\n",
        "    unique_count = data[col].nunique()\n",
        "    print(f\"{col}: {unique_count} unique values\")\n"
      ]
    },
    {
      "cell_type": "code",
      "source": [
        "\n",
        "X = data.drop(columns=['salary_in_usd'])\n",
        "y = data['salary_in_usd']\n",
        "\n"
      ],
      "metadata": {
        "id": "5rUpyIQe9NRE"
      },
      "execution_count": null,
      "outputs": []
    },
    {
      "cell_type": "markdown",
      "source": [
        "Till now- learned data\n",
        "\n",
        "Now- try 3 algo: random forest, xgboost, lightgbm"
      ],
      "metadata": {
        "id": "QRAMkotEXzyF"
      }
    },
    {
      "cell_type": "code",
      "source": [
        "# חישוב טווח השכר\n",
        "salary_min = data['salary_in_usd'].min()\n",
        "salary_max = data['salary_in_usd'].max()\n",
        "salary_mean = data['salary_in_usd'].mean()\n",
        "\n",
        "print(f\"Minimum Salary: {salary_min:,.2f}\")\n",
        "print(f\"Maximum Salary: {salary_max:,.2f}\")\n",
        "print(f\"Mean Salary: {salary_mean:,.2f}\")\n",
        "salary_std = data['salary_in_usd'].std()\n",
        "print(f\"Standard Deviation of Salary: {salary_std:,.2f}\")\n"
      ],
      "metadata": {
        "id": "O3QJ2IJEcv3S",
        "outputId": "5f5f9cc2-ad08-45ee-e7f1-26f68255eca6",
        "colab": {
          "base_uri": "https://localhost:8080/"
        }
      },
      "execution_count": null,
      "outputs": [
        {
          "output_type": "stream",
          "name": "stdout",
          "text": [
            "Minimum Salary: 15,000.00\n",
            "Maximum Salary: 800,000.00\n",
            "Mean Salary: 158,017.05\n",
            "Standard Deviation of Salary: 73,029.16\n"
          ]
        }
      ]
    },
    {
      "cell_type": "code",
      "source": [
        "\n",
        "# הפרדת משתנים תלויים ובלתי תלויים\n",
        "X = data.drop(columns=['salary_in_usd'])  # הסרת עמודת המטרה\n",
        "y = data['salary_in_usd']\n",
        "\n",
        "# חלוקה לנתוני אימון ובדיקה\n",
        "X_train, X_test, y_train, y_test = train_test_split(X, y, test_size=0.2, random_state=42)\n",
        "\n",
        "# fot rf and xgboost\n",
        "# One-Hot Encoding למשתנים קטגוריאליים\n",
        "X_train_encoded = pd.get_dummies(X_train)\n",
        "X_test_encoded = pd.get_dummies(X_test)\n"
      ],
      "metadata": {
        "id": "0VqbEhLlYAlY"
      },
      "execution_count": null,
      "outputs": []
    },
    {
      "cell_type": "markdown",
      "source": [
        "Naive model"
      ],
      "metadata": {
        "id": "7LnbGfjMtYwm"
      }
    },
    {
      "cell_type": "code",
      "source": [
        "# חישוב תחזית בסיסית\n",
        "baseline_prediction = np.mean(y_train)\n",
        "\n",
        "# חישוב RMSE למודל בסיסי\n",
        "\n",
        "rmse_baseline = np.sqrt(mean_squared_error(y_test, [baseline_prediction] * len(y_test)))\n",
        "\n",
        "print(f\"Baseline RMSE: {rmse_baseline:,.2f}\")\n"
      ],
      "metadata": {
        "id": "1yHocQH_bcC7",
        "outputId": "5c27523e-6570-42e3-b400-25c3aacfa389",
        "colab": {
          "base_uri": "https://localhost:8080/"
        }
      },
      "execution_count": null,
      "outputs": [
        {
          "output_type": "stream",
          "name": "stdout",
          "text": [
            "Baseline RMSE: 73,351.77\n"
          ]
        }
      ]
    },
    {
      "cell_type": "markdown",
      "source": [
        "linear model"
      ],
      "metadata": {
        "id": "2ehAmZC9tMi1"
      }
    },
    {
      "cell_type": "code",
      "source": [
        "from sklearn.linear_model import LinearRegression\n",
        "# התאמת מודל רגרסיה ליניארי\n",
        "lr_model = LinearRegression()\n",
        "lr_model.fit(X_train_encoded, y_train)\n",
        "\n",
        "# חיזוי על נתוני הבדיקה\n",
        "y_pred_lr = lr_model.predict(X_test_encoded)\n",
        "\n",
        "# הערכת ביצועי המודל\n",
        "mae_lr = mean_absolute_error(y_test, y_pred_lr)\n",
        "rmse_lr= np.sqrt(mean_squared_error(y_test, y_pred_lr))\n",
        "r2_lr = r2_score(y_test, y_pred_lr)\n",
        "relative_rmse_lr = (rmse_lr / salary_mean) * 100\n",
        "\n",
        "print(f\"Linear Regression - MAE: {mae_lr:,.2f}, RMSE: {rmse_lr:,.2f}\")\n",
        "print(f\"Relative RMSE: {relative_rmse_lr:.2f}%\")\n",
        "\n",
        "print(f\"Explained Variance (R^2): {r2_lr:.2f}\")\n"
      ],
      "metadata": {
        "id": "gbgFO3uAjmuF",
        "outputId": "b3fd2d75-e2e2-4d80-be09-6903dfb080ba",
        "colab": {
          "base_uri": "https://localhost:8080/"
        }
      },
      "execution_count": null,
      "outputs": [
        {
          "output_type": "stream",
          "name": "stdout",
          "text": [
            "Linear Regression - MAE: 45,789.69, RMSE: 61,996.26\n",
            "Relative RMSE: 39.24%\n",
            "Explained Variance (R^2): 0.29\n"
          ]
        }
      ]
    },
    {
      "cell_type": "markdown",
      "source": [
        "random forest:"
      ],
      "metadata": {
        "id": "3ZtomR4iX-KO"
      }
    },
    {
      "cell_type": "code",
      "source": [
        "\n",
        "# התאמת המודל\n",
        "rf_model = RandomForestRegressor(random_state=42)\n",
        "rf_model.fit(X_train_encoded, y_train)\n",
        "\n",
        "# חיזוי\n",
        "y_pred_rf = rf_model.predict(X_test_encoded)\n",
        "\n",
        "# הערכת ביצועים\n",
        "mae_rf = mean_absolute_error(y_test, y_pred_rf)\n",
        "rmse_rf = np.sqrt(mean_squared_error(y_test, y_pred_rf))\n",
        "r2_rf = r2_score(y_test, y_pred_rf)\n",
        "relative_rmse_rf = (rmse_rf / salary_mean) * 100\n",
        "\n",
        "print(f\"Random Forest - MAE: {mae_rf:,.2f}, RMSE: {rmse_rf:,.2f}\")\n",
        "print(f\"Explained Variance (R^2): {r2_rf:.2f}\")\n",
        "print(f\"Relative RMSE: {relative_rmse_rf:.2f}%\")\n"
      ],
      "metadata": {
        "id": "jWoUhh8qYQQp",
        "outputId": "e27eb3e4-2d97-4b66-9e31-01b3a7be0423",
        "colab": {
          "base_uri": "https://localhost:8080/"
        }
      },
      "execution_count": null,
      "outputs": [
        {
          "output_type": "stream",
          "name": "stdout",
          "text": [
            "Random Forest - MAE: 45,000.94, RMSE: 61,155.39\n",
            "Explained Variance (R^2): 0.30\n",
            "Relative RMSE: 38.71%\n"
          ]
        }
      ]
    },
    {
      "cell_type": "markdown",
      "source": [
        "xgboost"
      ],
      "metadata": {
        "id": "Xe9KPswLZZmS"
      }
    },
    {
      "cell_type": "code",
      "source": [
        "# התאמת המודל\n",
        "xgb_model = xgb.XGBRegressor(random_state=42)\n",
        "xgb_model.fit(X_train_encoded, y_train)\n",
        "\n",
        "# חיזוי\n",
        "y_pred_xgb = xgb_model.predict(X_test_encoded)\n",
        "\n",
        "# הערכת ביצועים\n",
        "mae_xgb = mean_absolute_error(y_test, y_pred_xgb)\n",
        "rmse_xgb = np.sqrt(mean_squared_error(y_test, y_pred_xgb))\n",
        "r2_xgb = r2_score(y_test, y_pred_xgb)\n",
        "relative_rmse_xgb = (rmse_xgb / salary_mean) * 100\n",
        "\n",
        "print(f\"XGBoost - MAE: {mae_xgb:.2f}, RMSE: {rmse_xgb:,.2f}\")\n",
        "print(f\"Explained Variance (R^2): {r2_xgb:.2f}\")\n",
        "print(f\"Relative RMSE: {relative_rmse_xgb:.2f}\")"
      ],
      "metadata": {
        "id": "SPTVhxLGZbGq",
        "outputId": "87079000-055e-4238-bcc5-5e8d051a00b6",
        "colab": {
          "base_uri": "https://localhost:8080/"
        }
      },
      "execution_count": null,
      "outputs": [
        {
          "output_type": "stream",
          "name": "stdout",
          "text": [
            "XGBoost - MAE: 45008.57, RMSE: 61,182.65\n",
            "Explained Variance (R^2): 0.30\n",
            "Relative RMSE: 38.73\n"
          ]
        }
      ]
    },
    {
      "cell_type": "code",
      "source": [
        "# הגדרת מודל XGBoost עם תמיכה בקטגוריות\n",
        "xgb_model_categorized = xgb.XGBRegressor(random_state=42, enable_categorical=True)\n",
        "\n",
        "# אימון המודל\n",
        "xgb_model_categorized.fit(X_train, y_train)\n",
        "\n",
        "# חיזוי על נתוני הבדיקה\n",
        "y_pred_xgb_categorized = xgb_model_categorized.predict(X_test)\n",
        "\n",
        "# הערכת ביצועים\n",
        "mae_xgb_categorized = mean_absolute_error(y_test, y_pred_xgb_categorized)\n",
        "rmse_xgb_categorized = np.sqrt(mean_squared_error(y_test, y_pred_xgb_categorized))\n",
        "r2_xgb_categorized = r2_score(y_test, y_pred_xgb_categorized)\n",
        "relative_rmse_xgb_categorized = (rmse_xgb_categorized / salary_mean) * 100\n",
        "\n",
        "print(f\"XGBoost - MAE: {mae_xgb_categorized:.2f}, RMSE: {rmse_xgb_categorized:,.2f}\")\n",
        "print(f\"Explained Variance (R^2): {r2_xgb_categorized:.2f}\")\n",
        "print(f\"Relative RMSE: {relative_rmse_xgb_categorized:.2f}\")"
      ],
      "metadata": {
        "id": "_FE-9eD7aHuD",
        "outputId": "114ee059-f0a0-47dd-971f-350bf75a38cd",
        "colab": {
          "base_uri": "https://localhost:8080/"
        }
      },
      "execution_count": null,
      "outputs": [
        {
          "output_type": "stream",
          "name": "stdout",
          "text": [
            "XGBoost - MAE: 45049.51, RMSE: 61,211.58\n",
            "Explained Variance (R^2): 0.30\n",
            "Relative RMSE: 38.75\n"
          ]
        }
      ]
    },
    {
      "cell_type": "markdown",
      "source": [
        "lgb"
      ],
      "metadata": {
        "id": "xRkZLpNpZdkU"
      }
    },
    {
      "cell_type": "code",
      "source": [
        "# יצירת דאטה ל-LightGBM\n",
        "train_data = lgb.Dataset(X_train, label=y_train, categorical_feature=categorical_columns)\n",
        "test_data = lgb.Dataset(X_test, label=y_test, reference=train_data, categorical_feature=categorical_columns)\n",
        "\n",
        "# פרמטרים למודל\n",
        "params = {\n",
        "    'objective': 'regression',\n",
        "    'metric': 'rmse',\n",
        "    'boosting_type': 'gbdt',\n",
        "    'learning_rate': 0.1,\n",
        "    'num_leaves': 63,\n",
        "    'min_data_in_leaf': 20,\n",
        "    'feature_fraction': 0.8,\n",
        "    'bagging_fraction': 0.6,\n",
        "    'verbose': -1\n",
        "}\n",
        "\n",
        "# אימון המודל\n",
        "lgbm_model = lgb.train(\n",
        "    params,\n",
        "    train_data,\n",
        "    valid_sets=[train_data, test_data],\n",
        "    num_boost_round=1000,\n",
        "    callbacks=[\n",
        "        lgb.early_stopping(stopping_rounds=3),\n",
        "        ]\n",
        ")\n",
        "\n",
        "# חיזוי\n",
        "y_pred_lgb = lgbm_model.predict(X_test, num_iteration=lgbm_model.best_iteration)\n",
        "\n",
        "\n",
        "mae_lgb = mean_absolute_error(y_test, y_pred_lgb)\n",
        "# חישוב MSE\n",
        "mse_lgb = mean_squared_error(y_test, y_pred_lgb)\n",
        "\n",
        "# חישוב RMSE ידנית\n",
        "rmse_lgb = np.sqrt(mse_lgb)\n",
        "\n",
        "r2_lgb = r2_score(y_test, y_pred_lgb)\n",
        "relative_rmse_lgb = (rmse_lgb / salary_mean) * 100\n",
        "\n",
        "print(f\"LightLGB - MAE: {mae_lgb:,.2f}, RMSE: {rmse_lgb:,.2f}\")\n",
        "print(f\"Explained Variance (R^2): {r2_lgb:.2f}\")\n",
        "print(f\"Relative RMSE: {relative_rmse_lgb:.2f}\")"
      ],
      "metadata": {
        "id": "G0XiFfE3bNYH",
        "outputId": "85c6e943-f8d1-4d8d-b607-d0ae1cc9dcd5",
        "colab": {
          "base_uri": "https://localhost:8080/"
        }
      },
      "execution_count": null,
      "outputs": [
        {
          "output_type": "stream",
          "name": "stdout",
          "text": [
            "Training until validation scores don't improve for 3 rounds\n",
            "Early stopping, best iteration is:\n",
            "[90]\ttraining's rmse: 60698.4\tvalid_1's rmse: 59446.7\n",
            "LightLGB - MAE: 44,795.27, RMSE: 59,446.65\n",
            "Explained Variance (R^2): 0.32\n",
            "Relative RMSE: 37.62\n"
          ]
        }
      ]
    },
    {
      "cell_type": "markdown",
      "source": [
        "Chosen"
      ],
      "metadata": {
        "id": "DtpwYnkXuWa7"
      }
    },
    {
      "cell_type": "code",
      "source": [
        "from lightgbm import LGBMRegressor\n",
        "from lightgbm import early_stopping\n",
        "\n",
        "# יצירת מודל LGBMRegressor\n",
        "LGBMRegressor_model = LGBMRegressor(\n",
        "    objective='regression',\n",
        "    metric='rmse',\n",
        "    learning_rate=0.1,\n",
        "    num_leaves=63,\n",
        "    n_estimators=1000\n",
        ")\n",
        "\n",
        "# אימון המודל תוך מעקב אחרי סט אימות\n",
        "LGBMRegressor_model.fit(\n",
        "    X_train, y_train,\n",
        "    eval_set=[(X_train, y_train), (X_test, y_test)],\n",
        "    eval_metric='rmse',\n",
        "    callbacks=[early_stopping(stopping_rounds=3)],\n",
        ")\n",
        "\n",
        "# הצגת היסטוריית RMSE\n",
        "plt.plot(LGBMRegressor_model.evals_result_['training']['rmse'], label='Training RMSE')\n",
        "plt.plot(LGBMRegressor_model.evals_result_['valid_1']['rmse'], label='Validation RMSE')\n",
        "plt.xlabel('Iterations')\n",
        "plt.ylabel('RMSE')\n",
        "plt.title('LightGBM Training Convergence')\n",
        "plt.legend()\n",
        "plt.show()\n"
      ],
      "metadata": {
        "id": "tFUQG1SYQSDq",
        "outputId": "1d9c292a-e7c3-4230-9508-b3c8fbfa3e07",
        "colab": {
          "base_uri": "https://localhost:8080/",
          "height": 524
        }
      },
      "execution_count": null,
      "outputs": [
        {
          "output_type": "stream",
          "name": "stdout",
          "text": [
            "Training until validation scores don't improve for 3 rounds\n",
            "Early stopping, best iteration is:\n",
            "[83]\ttraining's rmse: 60669.5\tvalid_1's rmse: 59417.1\n"
          ]
        },
        {
          "output_type": "display_data",
          "data": {
            "text/plain": [
              "<Figure size 640x480 with 1 Axes>"
            ],
            "image/png": "[encoded data removed]"
          },
          "metadata": {}
        }
      ]
    },
    {
      "cell_type": "code",
      "source": [
        "import pandas as pd\n",
        "import matplotlib.pyplot as plt\n",
        "\n",
        "# קבלת חשיבות הפיצ'רים (אפשר לבחור 'gain' או 'split')\n",
        "importance = lgbm_model.feature_importance(importance_type='gain')\n",
        "feature_names = X_train.columns\n",
        "\n",
        "# יצירת טבלה עם תוצאות\n",
        "importance_df = pd.DataFrame({'Feature': feature_names, 'Importance': importance})\n",
        "importance_df = importance_df.sort_values(by='Importance', ascending=False)\n",
        "\n",
        "# הצגת 10 הפיצ'רים הכי חשובים\n",
        "print(importance_df.head(10))\n",
        "\n",
        "# ציור גרף החשיבות\n",
        "plt.figure(figsize=(10, 6))\n",
        "plt.barh(importance_df['Feature'], importance_df['Importance'])\n",
        "plt.xlabel('Importance Score')\n",
        "plt.ylabel('Feature')\n",
        "plt.title('Feature Importance (LightGBM)')\n",
        "plt.gca().invert_yaxis()\n",
        "plt.show()\n"
      ],
      "metadata": {
        "id": "Gcz5hzwYSKdp",
        "outputId": "1f8fb621-db17-4396-bcc2-470b12fb4d95",
        "colab": {
          "base_uri": "https://localhost:8080/",
          "height": 703
        }
      },
      "execution_count": null,
      "outputs": [
        {
          "output_type": "stream",
          "name": "stdout",
          "text": [
            "              Feature    Importance\n",
            "2           job_title  3.269879e+14\n",
            "0    experience_level  1.204860e+14\n",
            "3  employee_residence  8.261739e+13\n",
            "4        remote_ratio  1.244842e+13\n",
            "5    company_location  1.062676e+13\n",
            "6        company_size  3.145022e+12\n",
            "1     employment_type  2.046168e+12\n"
          ]
        },
        {
          "output_type": "display_data",
          "data": {
            "text/plain": [
              "<Figure size 1000x600 with 1 Axes>"
            ],
            "image/png": "[encoded data removed]"
          },
          "metadata": {}
        }
      ]
    },
    {
      "cell_type": "code",
      "source": [],
      "metadata": {
        "id": "5EoR84I8UGqb",
        "outputId": "4bfb1b18-7315-4f7d-fdb5-31f68f69e232",
        "colab": {
          "base_uri": "https://localhost:8080/",
          "height": 720
        }
      },
      "execution_count": null,
      "outputs": [
        {
          "output_type": "stream",
          "name": "stdout",
          "text": [
            "              Feature  MI Score\n",
            "2           job_title  0.447079\n",
            "7        job_category  0.185401\n",
            "0    experience_level  0.182259\n",
            "3  employee_residence  0.158460\n",
            "5    company_location  0.156215\n",
            "4        remote_ratio  0.081996\n",
            "6        company_size  0.066355\n",
            "1     employment_type  0.008634\n"
          ]
        },
        {
          "output_type": "display_data",
          "data": {
            "text/plain": [
              "<Figure size 1000x600 with 1 Axes>"
            ],
            "image/png": "[encoded data removed]"
          },
          "metadata": {}
        }
      ]
    },
    {
      "cell_type": "code",
      "source": [
        "# נשמור רק את הפיצ'רים שה-MI שלהם גדול מ-0.1\n",
        "selected_features = mi_df[mi_df[\"MI Score\"] > 0.1][\"Feature\"].tolist()\n",
        "\n",
        "X_train_selected = X_train[selected_features]\n",
        "X_test_selected = X_test[selected_features]\n",
        "\n",
        "# אימון המודל מחדש\n",
        "\n",
        "LGBMRegressor_model.fit(\n",
        "    X_train_selected, y_train,\n",
        "    eval_set=[(X_train_selected, y_train), (X_test_selected, y_test)],\n",
        "    eval_metric='rmse',\n",
        "    callbacks=[early_stopping(stopping_rounds=3)],\n",
        ")\n",
        "\n",
        "# הצגת היסטוריית RMSE\n",
        "plt.plot(LGBMRegressor_model.evals_result_['training']['rmse'], label='Training RMSE')\n",
        "plt.plot(LGBMRegressor_model.evals_result_['valid_1']['rmse'], label='Validation RMSE')\n",
        "plt.xlabel('Iterations')\n",
        "plt.ylabel('RMSE')\n",
        "plt.title('LightGBM Training Convergence')\n",
        "plt.legend()\n",
        "plt.show()\n",
        "\n"
      ],
      "metadata": {
        "id": "WfCfQD_NU5tG",
        "outputId": "5bb27401-24ca-4fc9-acea-95548cb068d1",
        "colab": {
          "base_uri": "https://localhost:8080/",
          "height": 524
        }
      },
      "execution_count": null,
      "outputs": [
        {
          "output_type": "stream",
          "name": "stdout",
          "text": [
            "Training until validation scores don't improve for 3 rounds\n",
            "Early stopping, best iteration is:\n",
            "[138]\ttraining's rmse: 61100.3\tvalid_1's rmse: 59718.1\n"
          ]
        },
        {
          "output_type": "display_data",
          "data": {
            "text/plain": [
              "<Figure size 640x480 with 1 Axes>"
            ],
            "image/png": "[encoded data removed]"
          },
          "metadata": {}
        }
      ]
    },
    {
      "cell_type": "code",
      "source": [
        "import pandas as pd\n",
        "import matplotlib.pyplot as plt\n",
        "\n",
        "# חישוב ממוצע, חציון וסטיית תקן של השכר לכל מקצוע\n",
        "job_salary_stats = data.groupby(\"job_title\")[\"salary_in_usd\"].agg([\"mean\", \"median\", \"std\", \"count\"])\n",
        "\n",
        "# עיגול כל הערכים ל-0 ספרות אחרי הנקודה\n",
        "job_salary_stats = job_salary_stats.round(0)\n",
        "\n",
        "# מיון לפי סטיית תקן בסדר יורד\n",
        "job_salary_stats = job_salary_stats.sort_values(by=\"std\", ascending=False)\n",
        "\n",
        "# הצגת 10 המקצועות עם סטיית התקן הגבוהה ביותר\n",
        "print(job_salary_stats.head(20))\n"
      ],
      "metadata": {
        "id": "lIVr6i99XQR6",
        "outputId": "0170b80d-a3f4-4a73-8449-ad22a5773e2b",
        "colab": {
          "base_uri": "https://localhost:8080/"
        }
      },
      "execution_count": null,
      "outputs": [
        {
          "output_type": "stream",
          "name": "stdout",
          "text": [
            "                                           mean    median       std  count\n",
            "job_title                                                                 \n",
            "Finance Data Analyst                   141934.0   61896.0  157972.0      3\n",
            "Technical Writer                       168049.0  102000.0  150576.0     19\n",
            "AI Engineering Manager                 179930.0  179930.0  125610.0      2\n",
            "ML Infrastructure Engineer             229300.0  216800.0  124251.0     18\n",
            "Head of Machine Learning               288701.0  300000.0  123306.0      9\n",
            "Cloud Developer                        211500.0  211500.0  118087.0      2\n",
            "Machine Learning Performance Engineer  262500.0  262500.0  116673.0      2\n",
            "Prompt Engineer                        190413.0  164492.0  113623.0     49\n",
            "Enterprise Account Executive           257071.0  180000.0  113484.0     14\n",
            "Machine Learning Tech Lead             183450.0  183450.0  107692.0      2\n",
            "Deep Learning Engineer                 190808.0  150000.0  106790.0     12\n",
            "Data Visualization Engineer            138127.0  104250.0  102520.0     50\n",
            "Applied Machine Learning Scientist     104290.0   76060.0  101210.0     14\n",
            "Databricks Engineer                    179783.0  179783.0  100849.0      2\n",
            "Research Engineer                      204905.0  179500.0   99582.0   1103\n",
            "Director of Machine Learning           253752.0  205800.0   99280.0     20\n",
            "Applied Data Scientist                  97004.0   64781.0   97716.0     13\n",
            "AI Scientist                           168846.0  160000.0   95318.0     64\n",
            "Machine Learning Scientist             178261.0  166952.0   95316.0    328\n",
            "AI Architect                           215345.0  196500.0   94881.0    159\n"
          ]
        },
        {
          "output_type": "stream",
          "name": "stderr",
          "text": [
            "<ipython-input-49-3fba189e4177>:5: FutureWarning: The default of observed=False is deprecated and will be changed to True in a future version of pandas. Pass observed=False to retain current behavior or observed=True to adopt the future default and silence this warning.\n",
            "  job_salary_stats = data.groupby(\"job_title\")[\"salary_in_usd\"].agg([\"mean\", \"median\", \"std\", \"count\"])\n"
          ]
        }
      ]
    },
    {
      "cell_type": "code",
      "source": [
        "import pandas as pd\n",
        "\n",
        "# חישוב כמות הרשומות לכל תפקיד\n",
        "job_counts = data[\"job_title\"].value_counts()\n",
        "\n",
        "# רשימת התפקידים שמופיעים לפחות 300 פעמים\n",
        "jobs_to_keep = job_counts[job_counts >= 1000].index\n",
        "\n",
        "# יצירת דאטה מסונן עם .copy() כדי למנוע SettingWithCopyWarning\n",
        "filtered_df = data[data[\"job_title\"].isin(jobs_to_keep)].copy()\n",
        "\n",
        "# המרת משתנים קטגוריאליים לסוג category\n",
        "categorical_features = [\"job_title\", \"experience_level\", \"employment_type\", \"company_size\", \"company_location\"]\n",
        "for col in categorical_features:\n",
        "    filtered_df[col] = filtered_df[col].astype(\"category\")\n",
        "\n",
        "# הצגת מספר הרשומות לאחר הסינון\n",
        "print(f\"מספר הרשומות אחרי סינון: {filtered_df.shape[0]}\")\n",
        "\n",
        "from sklearn.model_selection import train_test_split\n",
        "# זיהוי עמודות טקסטואליות\n",
        "\n",
        "# בחירת משתנים למודל\n",
        "X = filtered_df.drop(columns=[\"salary_in_usd\"])  # כל המשתנים חוץ מהשכר\n",
        "y = filtered_df[\"salary_in_usd\"]  # המשתנה המנובא (שכר)\n",
        "\n",
        "# פיצול לסט אימון וסט בדיקה\n",
        "X_train, X_test, y_train, y_test = train_test_split(X, y, test_size=0.2, random_state=42)\n",
        "\n",
        "# הדפסת גודל הסטים\n",
        "print(f\"Train set size: {X_train.shape[0]}, Test set size: {X_test.shape[0]}\")\n"
      ],
      "metadata": {
        "id": "WVJCAsAWbVNv",
        "outputId": "da684ac6-8b83-4723-97f8-072a72357fe9",
        "colab": {
          "base_uri": "https://localhost:8080/"
        }
      },
      "execution_count": null,
      "outputs": [
        {
          "output_type": "stream",
          "name": "stdout",
          "text": [
            "מספר הרשומות אחרי סינון: 63584\n",
            "Train set size: 50867, Test set size: 12717\n"
          ]
        }
      ]
    },
    {
      "cell_type": "code",
      "source": [
        "# איתור כל העמודות מסוג object (קטגוריאליות)\n",
        "categorical_features = filtered_df.select_dtypes(include=[\"object\"]).columns.tolist()\n",
        "\n",
        "# המרת כל העמודות הקטגוריאליות ל-type 'category'\n",
        "for col in categorical_features:\n",
        "    filtered_df[col] = filtered_df[col].astype(\"category\")\n",
        "\n",
        "# הצגת סוג הנתונים לאחר ההמרה\n",
        "print(filtered_df.dtypes)\n"
      ],
      "metadata": {
        "id": "Z8b59wYqeSy0",
        "outputId": "cc5f4d18-1811-4039-f704-84188a7033ce",
        "colab": {
          "base_uri": "https://localhost:8080/"
        }
      },
      "execution_count": null,
      "outputs": [
        {
          "output_type": "stream",
          "name": "stdout",
          "text": [
            "experience_level      category\n",
            "employment_type       category\n",
            "job_title             category\n",
            "salary_in_usd            int64\n",
            "employee_residence    category\n",
            "remote_ratio          category\n",
            "company_location      category\n",
            "company_size          category\n",
            "job_category          category\n",
            "dtype: object\n"
          ]
        }
      ]
    },
    {
      "cell_type": "code",
      "source": [
        "\n",
        "X = filtered_df.drop(columns=[\"salary_in_usd\"])\n",
        "y = filtered_df[\"salary_in_usd\"]\n",
        "\n",
        "from sklearn.model_selection import train_test_split\n",
        "\n",
        "X_train, X_test, y_train, y_test = train_test_split(X, y, test_size=0.2, random_state=42)\n",
        "\n",
        "\n",
        "# יצירת מודל LGBMRegressor\n",
        "LGBMRegressor_model_2 = LGBMRegressor(\n",
        "    objective='regression',\n",
        "    metric='rmse',\n",
        "    learning_rate=0.1,\n",
        "    num_leaves=63,\n",
        "    n_estimators=1000\n",
        ")\n",
        "\n",
        "# אימון המודל תוך מעקב אחרי סט אימות\n",
        "LGBMRegressor_model_2.fit(\n",
        "    X_train, y_train,\n",
        "    eval_set=[(X_train, y_train), (X_test, y_test)],\n",
        "    eval_metric='rmse',\n",
        "    callbacks=[early_stopping(stopping_rounds=3)],\n",
        ")\n",
        "\n",
        "# הצגת היסטוריית RMSE\n",
        "plt.plot(LGBMRegressor_model_2.evals_result_['training']['rmse'], label='Training RMSE')\n",
        "plt.plot(LGBMRegressor_model_2.evals_result_['valid_1']['rmse'], label='Validation RMSE')\n",
        "plt.xlabel('Iterations')\n",
        "plt.ylabel('RMSE')\n",
        "plt.title('LightGBM Training Convergence')\n",
        "plt.legend()\n",
        "plt.show()\n"
      ],
      "metadata": {
        "id": "bPEp9-hkdSaL",
        "outputId": "90438d0c-a27b-4d25-93a7-58b1f9dcbadf",
        "colab": {
          "base_uri": "https://localhost:8080/",
          "height": 524
        }
      },
      "execution_count": null,
      "outputs": [
        {
          "output_type": "stream",
          "name": "stdout",
          "text": [
            "Training until validation scores don't improve for 3 rounds\n",
            "Early stopping, best iteration is:\n",
            "[132]\ttraining's rmse: 61218.7\tvalid_1's rmse: 62088.6\n"
          ]
        },
        {
          "output_type": "display_data",
          "data": {
            "text/plain": [
              "<Figure size 640x480 with 1 Axes>"
            ],
            "image/png": "[encoded data removed]"
          },
          "metadata": {}
        }
      ]
    },
    {
      "cell_type": "code",
      "source": [
        "import numpy as np\n",
        "\n",
        "# יצירת עותק של הנתונים עם רעש אקראי\n",
        "X_train_noisy = X_train + np.random.normal(0, X_train.std() * 0.1, X_train.shape)\n",
        "\n",
        "# אימון מודל על הדאטה עם רעש\n",
        "model_noisy = LGBMRegressor()\n",
        "model_noisy.fit(X_train_noisy, y_train)\n",
        "y_pred_noisy = model_noisy.predict(X_test)\n",
        "\n",
        "# חישוב R^2 אחרי הוספת רעש\n",
        "r2_noisy = r2_score(y_test, y_pred_noisy)\n",
        "print(f\"R^2 after adding noise: {r2_noisy:.4f}\")\n"
      ],
      "metadata": {
        "id": "QPwmG3KDikK_",
        "outputId": "df6085e8-365e-46b8-a327-5de036bd0f06",
        "colab": {
          "base_uri": "https://localhost:8080/",
          "height": 356
        }
      },
      "execution_count": null,
      "outputs": [
        {
          "output_type": "error",
          "ename": "TypeError",
          "evalue": "'Categorical' with dtype category does not support reduction 'std'",
          "traceback": [
            "\u001b[0;31m---------------------------------------------------------------------------\u001b[0m",
            "\u001b[0;31mTypeError\u001b[0m                                 Traceback (most recent call last)",
            "\u001b[0;32m<ipython-input-74-13d9a6d94003>\u001b[0m in \u001b[0;36m<cell line: 0>\u001b[0;34m()\u001b[0m\n\u001b[1;32m      2\u001b[0m \u001b[0;34m\u001b[0m\u001b[0m\n\u001b[1;32m      3\u001b[0m \u001b[0;31m# יצירת עותק של הנתונים עם רעש אקראי\u001b[0m\u001b[0;34m\u001b[0m\u001b[0;34m\u001b[0m\u001b[0m\n\u001b[0;32m----> 4\u001b[0;31m \u001b[0mX_train_noisy\u001b[0m \u001b[0;34m=\u001b[0m \u001b[0mX_train\u001b[0m \u001b[0;34m+\u001b[0m \u001b[0mnp\u001b[0m\u001b[0;34m.\u001b[0m\u001b[0mrandom\u001b[0m\u001b[0;34m.\u001b[0m\u001b[0mnormal\u001b[0m\u001b[0;34m(\u001b[0m\u001b[0;36m0\u001b[0m\u001b[0;34m,\u001b[0m \u001b[0mX_train\u001b[0m\u001b[0;34m.\u001b[0m\u001b[0mstd\u001b[0m\u001b[0;34m(\u001b[0m\u001b[0;34m)\u001b[0m \u001b[0;34m*\u001b[0m \u001b[0;36m0.1\u001b[0m\u001b[0;34m,\u001b[0m \u001b[0mX_train\u001b[0m\u001b[0;34m.\u001b[0m\u001b[0mshape\u001b[0m\u001b[0;34m)\u001b[0m\u001b[0;34m\u001b[0m\u001b[0;34m\u001b[0m\u001b[0m\n\u001b[0m\u001b[1;32m      5\u001b[0m \u001b[0;34m\u001b[0m\u001b[0m\n\u001b[1;32m      6\u001b[0m \u001b[0;31m# אימון מודל על הדאטה עם רעש\u001b[0m\u001b[0;34m\u001b[0m\u001b[0;34m\u001b[0m\u001b[0m\n",
            "\u001b[0;32m/usr/local/lib/python3.11/dist-packages/pandas/core/frame.py\u001b[0m in \u001b[0;36mstd\u001b[0;34m(self, axis, skipna, ddof, numeric_only, **kwargs)\u001b[0m\n\u001b[1;32m  11746\u001b[0m         \u001b[0;34m**\u001b[0m\u001b[0mkwargs\u001b[0m\u001b[0;34m,\u001b[0m\u001b[0;34m\u001b[0m\u001b[0;34m\u001b[0m\u001b[0m\n\u001b[1;32m  11747\u001b[0m     ):\n\u001b[0;32m> 11748\u001b[0;31m         \u001b[0mresult\u001b[0m \u001b[0;34m=\u001b[0m \u001b[0msuper\u001b[0m\u001b[0;34m(\u001b[0m\u001b[0;34m)\u001b[0m\u001b[0;34m.\u001b[0m\u001b[0mstd\u001b[0m\u001b[0;34m(\u001b[0m\u001b[0maxis\u001b[0m\u001b[0;34m,\u001b[0m \u001b[0mskipna\u001b[0m\u001b[0;34m,\u001b[0m \u001b[0mddof\u001b[0m\u001b[0;34m,\u001b[0m \u001b[0mnumeric_only\u001b[0m\u001b[0;34m,\u001b[0m \u001b[0;34m**\u001b[0m\u001b[0mkwargs\u001b[0m\u001b[0;34m)\u001b[0m\u001b[0;34m\u001b[0m\u001b[0;34m\u001b[0m\u001b[0m\n\u001b[0m\u001b[1;32m  11749\u001b[0m         \u001b[0;32mif\u001b[0m \u001b[0misinstance\u001b[0m\u001b[0;34m(\u001b[0m\u001b[0mresult\u001b[0m\u001b[0;34m,\u001b[0m \u001b[0mSeries\u001b[0m\u001b[0;34m)\u001b[0m\u001b[0;34m:\u001b[0m\u001b[0;34m\u001b[0m\u001b[0;34m\u001b[0m\u001b[0m\n\u001b[1;32m  11750\u001b[0m             \u001b[0mresult\u001b[0m \u001b[0;34m=\u001b[0m \u001b[0mresult\u001b[0m\u001b[0;34m.\u001b[0m\u001b[0m__finalize__\u001b[0m\u001b[0;34m(\u001b[0m\u001b[0mself\u001b[0m\u001b[0;34m,\u001b[0m \u001b[0mmethod\u001b[0m\u001b[0;34m=\u001b[0m\u001b[0;34m\"std\"\u001b[0m\u001b[0;34m)\u001b[0m\u001b[0;34m\u001b[0m\u001b[0;34m\u001b[0m\u001b[0m\n",
            "\u001b[0;32m/usr/local/lib/python3.11/dist-packages/pandas/core/generic.py\u001b[0m in \u001b[0;36mstd\u001b[0;34m(self, axis, skipna, ddof, numeric_only, **kwargs)\u001b[0m\n\u001b[1;32m  12356\u001b[0m         \u001b[0;34m**\u001b[0m\u001b[0mkwargs\u001b[0m\u001b[0;34m,\u001b[0m\u001b[0;34m\u001b[0m\u001b[0;34m\u001b[0m\u001b[0m\n\u001b[1;32m  12357\u001b[0m     ) -> Series | float:\n\u001b[0;32m> 12358\u001b[0;31m         return self._stat_function_ddof(\n\u001b[0m\u001b[1;32m  12359\u001b[0m             \u001b[0;34m\"std\"\u001b[0m\u001b[0;34m,\u001b[0m \u001b[0mnanops\u001b[0m\u001b[0;34m.\u001b[0m\u001b[0mnanstd\u001b[0m\u001b[0;34m,\u001b[0m \u001b[0maxis\u001b[0m\u001b[0;34m,\u001b[0m \u001b[0mskipna\u001b[0m\u001b[0;34m,\u001b[0m \u001b[0mddof\u001b[0m\u001b[0;34m,\u001b[0m \u001b[0mnumeric_only\u001b[0m\u001b[0;34m,\u001b[0m \u001b[0;34m**\u001b[0m\u001b[0mkwargs\u001b[0m\u001b[0;34m\u001b[0m\u001b[0;34m\u001b[0m\u001b[0m\n\u001b[1;32m  12360\u001b[0m         )\n",
            "\u001b[0;32m/usr/local/lib/python3.11/dist-packages/pandas/core/generic.py\u001b[0m in \u001b[0;36m_stat_function_ddof\u001b[0;34m(self, name, func, axis, skipna, ddof, numeric_only, **kwargs)\u001b[0m\n\u001b[1;32m  12320\u001b[0m             \u001b[0maxis\u001b[0m \u001b[0;34m=\u001b[0m \u001b[0;36m0\u001b[0m\u001b[0;34m\u001b[0m\u001b[0;34m\u001b[0m\u001b[0m\n\u001b[1;32m  12321\u001b[0m \u001b[0;34m\u001b[0m\u001b[0m\n\u001b[0;32m> 12322\u001b[0;31m         return self._reduce(\n\u001b[0m\u001b[1;32m  12323\u001b[0m             \u001b[0mfunc\u001b[0m\u001b[0;34m,\u001b[0m \u001b[0mname\u001b[0m\u001b[0;34m,\u001b[0m \u001b[0maxis\u001b[0m\u001b[0;34m=\u001b[0m\u001b[0maxis\u001b[0m\u001b[0;34m,\u001b[0m \u001b[0mnumeric_only\u001b[0m\u001b[0;34m=\u001b[0m\u001b[0mnumeric_only\u001b[0m\u001b[0;34m,\u001b[0m \u001b[0mskipna\u001b[0m\u001b[0;34m=\u001b[0m\u001b[0mskipna\u001b[0m\u001b[0;34m,\u001b[0m \u001b[0mddof\u001b[0m\u001b[0;34m=\u001b[0m\u001b[0mddof\u001b[0m\u001b[0;34m\u001b[0m\u001b[0;34m\u001b[0m\u001b[0m\n\u001b[1;32m  12324\u001b[0m         )\n",
            "\u001b[0;32m/usr/local/lib/python3.11/dist-packages/pandas/core/frame.py\u001b[0m in \u001b[0;36m_reduce\u001b[0;34m(self, op, name, axis, skipna, numeric_only, filter_type, **kwds)\u001b[0m\n\u001b[1;32m  11560\u001b[0m         \u001b[0;31m# After possibly _get_data and transposing, we are now in the\u001b[0m\u001b[0;34m\u001b[0m\u001b[0;34m\u001b[0m\u001b[0m\n\u001b[1;32m  11561\u001b[0m         \u001b[0;31m#  simple case where we can use BlockManager.reduce\u001b[0m\u001b[0;34m\u001b[0m\u001b[0;34m\u001b[0m\u001b[0m\n\u001b[0;32m> 11562\u001b[0;31m         \u001b[0mres\u001b[0m \u001b[0;34m=\u001b[0m \u001b[0mdf\u001b[0m\u001b[0;34m.\u001b[0m\u001b[0m_mgr\u001b[0m\u001b[0;34m.\u001b[0m\u001b[0mreduce\u001b[0m\u001b[0;34m(\u001b[0m\u001b[0mblk_func\u001b[0m\u001b[0;34m)\u001b[0m\u001b[0;34m\u001b[0m\u001b[0;34m\u001b[0m\u001b[0m\n\u001b[0m\u001b[1;32m  11563\u001b[0m         \u001b[0mout\u001b[0m \u001b[0;34m=\u001b[0m \u001b[0mdf\u001b[0m\u001b[0;34m.\u001b[0m\u001b[0m_constructor_from_mgr\u001b[0m\u001b[0;34m(\u001b[0m\u001b[0mres\u001b[0m\u001b[0;34m,\u001b[0m \u001b[0maxes\u001b[0m\u001b[0;34m=\u001b[0m\u001b[0mres\u001b[0m\u001b[0;34m.\u001b[0m\u001b[0maxes\u001b[0m\u001b[0;34m)\u001b[0m\u001b[0;34m.\u001b[0m\u001b[0miloc\u001b[0m\u001b[0;34m[\u001b[0m\u001b[0;36m0\u001b[0m\u001b[0;34m]\u001b[0m\u001b[0;34m\u001b[0m\u001b[0;34m\u001b[0m\u001b[0m\n\u001b[1;32m  11564\u001b[0m         \u001b[0;32mif\u001b[0m \u001b[0mout_dtype\u001b[0m \u001b[0;32mis\u001b[0m \u001b[0;32mnot\u001b[0m \u001b[0;32mNone\u001b[0m \u001b[0;32mand\u001b[0m \u001b[0mout\u001b[0m\u001b[0;34m.\u001b[0m\u001b[0mdtype\u001b[0m \u001b[0;34m!=\u001b[0m \u001b[0;34m\"boolean\"\u001b[0m\u001b[0;34m:\u001b[0m\u001b[0;34m\u001b[0m\u001b[0;34m\u001b[0m\u001b[0m\n",
            "\u001b[0;32m/usr/local/lib/python3.11/dist-packages/pandas/core/internals/managers.py\u001b[0m in \u001b[0;36mreduce\u001b[0;34m(self, func)\u001b[0m\n\u001b[1;32m   1498\u001b[0m         \u001b[0mres_blocks\u001b[0m\u001b[0;34m:\u001b[0m \u001b[0mlist\u001b[0m\u001b[0;34m[\u001b[0m\u001b[0mBlock\u001b[0m\u001b[0;34m]\u001b[0m \u001b[0;34m=\u001b[0m \u001b[0;34m[\u001b[0m\u001b[0;34m]\u001b[0m\u001b[0;34m\u001b[0m\u001b[0;34m\u001b[0m\u001b[0m\n\u001b[1;32m   1499\u001b[0m         \u001b[0;32mfor\u001b[0m \u001b[0mblk\u001b[0m \u001b[0;32min\u001b[0m \u001b[0mself\u001b[0m\u001b[0;34m.\u001b[0m\u001b[0mblocks\u001b[0m\u001b[0;34m:\u001b[0m\u001b[0;34m\u001b[0m\u001b[0;34m\u001b[0m\u001b[0m\n\u001b[0;32m-> 1500\u001b[0;31m             \u001b[0mnbs\u001b[0m \u001b[0;34m=\u001b[0m \u001b[0mblk\u001b[0m\u001b[0;34m.\u001b[0m\u001b[0mreduce\u001b[0m\u001b[0;34m(\u001b[0m\u001b[0mfunc\u001b[0m\u001b[0;34m)\u001b[0m\u001b[0;34m\u001b[0m\u001b[0;34m\u001b[0m\u001b[0m\n\u001b[0m\u001b[1;32m   1501\u001b[0m             \u001b[0mres_blocks\u001b[0m\u001b[0;34m.\u001b[0m\u001b[0mextend\u001b[0m\u001b[0;34m(\u001b[0m\u001b[0mnbs\u001b[0m\u001b[0;34m)\u001b[0m\u001b[0;34m\u001b[0m\u001b[0;34m\u001b[0m\u001b[0m\n\u001b[1;32m   1502\u001b[0m \u001b[0;34m\u001b[0m\u001b[0m\n",
            "\u001b[0;32m/usr/local/lib/python3.11/dist-packages/pandas/core/internals/blocks.py\u001b[0m in \u001b[0;36mreduce\u001b[0;34m(self, func)\u001b[0m\n\u001b[1;32m    402\u001b[0m         \u001b[0;32massert\u001b[0m \u001b[0mself\u001b[0m\u001b[0;34m.\u001b[0m\u001b[0mndim\u001b[0m \u001b[0;34m==\u001b[0m \u001b[0;36m2\u001b[0m\u001b[0;34m\u001b[0m\u001b[0;34m\u001b[0m\u001b[0m\n\u001b[1;32m    403\u001b[0m \u001b[0;34m\u001b[0m\u001b[0m\n\u001b[0;32m--> 404\u001b[0;31m         \u001b[0mresult\u001b[0m \u001b[0;34m=\u001b[0m \u001b[0mfunc\u001b[0m\u001b[0;34m(\u001b[0m\u001b[0mself\u001b[0m\u001b[0;34m.\u001b[0m\u001b[0mvalues\u001b[0m\u001b[0;34m)\u001b[0m\u001b[0;34m\u001b[0m\u001b[0;34m\u001b[0m\u001b[0m\n\u001b[0m\u001b[1;32m    405\u001b[0m \u001b[0;34m\u001b[0m\u001b[0m\n\u001b[1;32m    406\u001b[0m         \u001b[0;32mif\u001b[0m \u001b[0mself\u001b[0m\u001b[0;34m.\u001b[0m\u001b[0mvalues\u001b[0m\u001b[0;34m.\u001b[0m\u001b[0mndim\u001b[0m \u001b[0;34m==\u001b[0m \u001b[0;36m1\u001b[0m\u001b[0;34m:\u001b[0m\u001b[0;34m\u001b[0m\u001b[0;34m\u001b[0m\u001b[0m\n",
            "\u001b[0;32m/usr/local/lib/python3.11/dist-packages/pandas/core/frame.py\u001b[0m in \u001b[0;36mblk_func\u001b[0;34m(values, axis)\u001b[0m\n\u001b[1;32m  11468\u001b[0m                     \u001b[0mdtype_has_keepdims\u001b[0m\u001b[0;34m[\u001b[0m\u001b[0mvalues\u001b[0m\u001b[0;34m.\u001b[0m\u001b[0mdtype\u001b[0m\u001b[0;34m]\u001b[0m \u001b[0;34m=\u001b[0m \u001b[0mhas_keepdims\u001b[0m\u001b[0;34m\u001b[0m\u001b[0;34m\u001b[0m\u001b[0m\n\u001b[1;32m  11469\u001b[0m                 \u001b[0;32mif\u001b[0m \u001b[0mhas_keepdims\u001b[0m\u001b[0;34m:\u001b[0m\u001b[0;34m\u001b[0m\u001b[0;34m\u001b[0m\u001b[0m\n\u001b[0;32m> 11470\u001b[0;31m                     \u001b[0;32mreturn\u001b[0m \u001b[0mvalues\u001b[0m\u001b[0;34m.\u001b[0m\u001b[0m_reduce\u001b[0m\u001b[0;34m(\u001b[0m\u001b[0mname\u001b[0m\u001b[0;34m,\u001b[0m \u001b[0mskipna\u001b[0m\u001b[0;34m=\u001b[0m\u001b[0mskipna\u001b[0m\u001b[0;34m,\u001b[0m \u001b[0mkeepdims\u001b[0m\u001b[0;34m=\u001b[0m\u001b[0;32mTrue\u001b[0m\u001b[0;34m,\u001b[0m \u001b[0;34m**\u001b[0m\u001b[0mkwds\u001b[0m\u001b[0;34m)\u001b[0m\u001b[0;34m\u001b[0m\u001b[0;34m\u001b[0m\u001b[0m\n\u001b[0m\u001b[1;32m  11471\u001b[0m                 \u001b[0;32melse\u001b[0m\u001b[0;34m:\u001b[0m\u001b[0;34m\u001b[0m\u001b[0;34m\u001b[0m\u001b[0m\n\u001b[1;32m  11472\u001b[0m                     warnings.warn(\n",
            "\u001b[0;32m/usr/local/lib/python3.11/dist-packages/pandas/core/arrays/categorical.py\u001b[0m in \u001b[0;36m_reduce\u001b[0;34m(self, name, skipna, keepdims, **kwargs)\u001b[0m\n\u001b[1;32m   2357\u001b[0m         \u001b[0mself\u001b[0m\u001b[0;34m,\u001b[0m \u001b[0mname\u001b[0m\u001b[0;34m:\u001b[0m \u001b[0mstr\u001b[0m\u001b[0;34m,\u001b[0m \u001b[0;34m*\u001b[0m\u001b[0;34m,\u001b[0m \u001b[0mskipna\u001b[0m\u001b[0;34m:\u001b[0m \u001b[0mbool\u001b[0m \u001b[0;34m=\u001b[0m \u001b[0;32mTrue\u001b[0m\u001b[0;34m,\u001b[0m \u001b[0mkeepdims\u001b[0m\u001b[0;34m:\u001b[0m \u001b[0mbool\u001b[0m \u001b[0;34m=\u001b[0m \u001b[0;32mFalse\u001b[0m\u001b[0;34m,\u001b[0m \u001b[0;34m**\u001b[0m\u001b[0mkwargs\u001b[0m\u001b[0;34m\u001b[0m\u001b[0;34m\u001b[0m\u001b[0m\n\u001b[1;32m   2358\u001b[0m     ):\n\u001b[0;32m-> 2359\u001b[0;31m         \u001b[0mresult\u001b[0m \u001b[0;34m=\u001b[0m \u001b[0msuper\u001b[0m\u001b[0;34m(\u001b[0m\u001b[0;34m)\u001b[0m\u001b[0;34m.\u001b[0m\u001b[0m_reduce\u001b[0m\u001b[0;34m(\u001b[0m\u001b[0mname\u001b[0m\u001b[0;34m,\u001b[0m \u001b[0mskipna\u001b[0m\u001b[0;34m=\u001b[0m\u001b[0mskipna\u001b[0m\u001b[0;34m,\u001b[0m \u001b[0mkeepdims\u001b[0m\u001b[0;34m=\u001b[0m\u001b[0mkeepdims\u001b[0m\u001b[0;34m,\u001b[0m \u001b[0;34m**\u001b[0m\u001b[0mkwargs\u001b[0m\u001b[0;34m)\u001b[0m\u001b[0;34m\u001b[0m\u001b[0;34m\u001b[0m\u001b[0m\n\u001b[0m\u001b[1;32m   2360\u001b[0m         \u001b[0;32mif\u001b[0m \u001b[0mname\u001b[0m \u001b[0;32min\u001b[0m \u001b[0;34m[\u001b[0m\u001b[0;34m\"argmax\"\u001b[0m\u001b[0;34m,\u001b[0m \u001b[0;34m\"argmin\"\u001b[0m\u001b[0;34m]\u001b[0m\u001b[0;34m:\u001b[0m\u001b[0;34m\u001b[0m\u001b[0;34m\u001b[0m\u001b[0m\n\u001b[1;32m   2361\u001b[0m             \u001b[0;31m# don't wrap in Categorical!\u001b[0m\u001b[0;34m\u001b[0m\u001b[0;34m\u001b[0m\u001b[0m\n",
            "\u001b[0;32m/usr/local/lib/python3.11/dist-packages/pandas/core/arrays/base.py\u001b[0m in \u001b[0;36m_reduce\u001b[0;34m(self, name, skipna, keepdims, **kwargs)\u001b[0m\n\u001b[1;32m   1952\u001b[0m         \u001b[0mmeth\u001b[0m \u001b[0;34m=\u001b[0m \u001b[0mgetattr\u001b[0m\u001b[0;34m(\u001b[0m\u001b[0mself\u001b[0m\u001b[0;34m,\u001b[0m \u001b[0mname\u001b[0m\u001b[0;34m,\u001b[0m \u001b[0;32mNone\u001b[0m\u001b[0;34m)\u001b[0m\u001b[0;34m\u001b[0m\u001b[0;34m\u001b[0m\u001b[0m\n\u001b[1;32m   1953\u001b[0m         \u001b[0;32mif\u001b[0m \u001b[0mmeth\u001b[0m \u001b[0;32mis\u001b[0m \u001b[0;32mNone\u001b[0m\u001b[0;34m:\u001b[0m\u001b[0;34m\u001b[0m\u001b[0;34m\u001b[0m\u001b[0m\n\u001b[0;32m-> 1954\u001b[0;31m             raise TypeError(\n\u001b[0m\u001b[1;32m   1955\u001b[0m                 \u001b[0;34mf\"'{type(self).__name__}' with dtype {self.dtype} \"\u001b[0m\u001b[0;34m\u001b[0m\u001b[0;34m\u001b[0m\u001b[0m\n\u001b[1;32m   1956\u001b[0m                 \u001b[0;34mf\"does not support reduction '{name}'\"\u001b[0m\u001b[0;34m\u001b[0m\u001b[0;34m\u001b[0m\u001b[0m\n",
            "\u001b[0;31mTypeError\u001b[0m: 'Categorical' with dtype category does not support reduction 'std'"
          ]
        }
      ]
    },
    {
      "cell_type": "code",
      "source": [
        "model.save_model('lightgbm_model.txt')\n"
      ],
      "metadata": {
        "id": "tHENyBJRuH_x",
        "outputId": "7b228237-ae36-4a9c-ccbc-42e2747fd1b6",
        "colab": {
          "base_uri": "https://localhost:8080/"
        }
      },
      "execution_count": null,
      "outputs": [
        {
          "output_type": "execute_result",
          "data": {
            "text/plain": [
              "<lightgbm.basic.Booster at 0x7f6437ffcfd0>"
            ]
          },
          "metadata": {},
          "execution_count": 136
        }
      ]
    },
    {
      "cell_type": "code",
      "source": [
        "import pandas as pd\n",
        "from tabulate import tabulate\n",
        "\n",
        "# יצירת נתוני דוגמה\n",
        "results = {\n",
        "    \"Model\": [\"Linear Regression\", \"Random Forest\", \"XGBoost\", \"LightGBM\"],\n",
        "    \"MAE\": [mae_lr, mae_rf, mae_xgb, mae_lgb],\n",
        "    \"RMSE\": [rmse_lr, rmse_rf, rmse_xgb, rmse_lgb],\n",
        "    \"R²\": [r2_lr, r2_rf, r2_xgb, r2_lgb],\n",
        "    \"Relative RMSE (%)\": [relative_rmse_lr, relative_rmse_rf, relative_rmse_xgb, relative_rmse_lgb],\n",
        "}\n",
        "\n",
        "# יצירת DataFrame\n",
        "results_df = pd.DataFrame(results)\n",
        "\n",
        "# עיגול הנתונים ל-2 ספרות עשרוניות\n",
        "df_rounded = results_df.copy()\n",
        "df_rounded[\"MAE\"] = df_rounded[\"MAE\"].round(2)\n",
        "df_rounded[\"RMSE\"] = df_rounded[\"RMSE\"].round(2)\n",
        "df_rounded[\"R²\"] = df_rounded[\"R²\"].round(3)  # ערך קטן יותר, מדויק יותר\n",
        "df_rounded[\"Relative RMSE (%)\"] = df_rounded[\"Relative RMSE (%)\"].round(2)\n",
        "\n",
        "# הדפסת הטבלה המעוגלת\n",
        "print(tabulate(df_rounded, headers=\"keys\", tablefmt=\"pretty\"))\n"
      ],
      "metadata": {
        "id": "R1fdMoe2oj-a",
        "outputId": "a15ac752-e0c3-4f78-b1d0-7528bb9f4703",
        "colab": {
          "base_uri": "https://localhost:8080/"
        }
      },
      "execution_count": null,
      "outputs": [
        {
          "output_type": "stream",
          "name": "stdout",
          "text": [
            "+---+-------------------+----------+----------+-------+-------------------+\n",
            "|   |       Model       |   MAE    |   RMSE   |  R²   | Relative RMSE (%) |\n",
            "+---+-------------------+----------+----------+-------+-------------------+\n",
            "| 0 | Linear Regression | 45789.69 | 61996.26 | 0.286 |       39.24       |\n",
            "| 1 |   Random Forest   | 45000.94 | 61155.39 | 0.305 |       38.71       |\n",
            "| 2 |      XGBoost      | 45008.57 | 61182.65 | 0.304 |       38.73       |\n",
            "| 3 |     LightGBM      | 44907.41 | 61006.69 | 0.308 |       38.62       |\n",
            "+---+-------------------+----------+----------+-------+-------------------+\n"
          ]
        }
      ]
    },
    {
      "cell_type": "code",
      "source": [
        "df_rounded.to_csv(\"model_comparison_results.csv\", index=False)\n"
      ],
      "metadata": {
        "id": "RtXsopK3sbQm"
      },
      "execution_count": null,
      "outputs": []
    },
    {
      "cell_type": "markdown",
      "source": [],
      "metadata": {
        "id": "zDDy4RNkojna"
      }
    },
    {
      "cell_type": "markdown",
      "source": [],
      "metadata": {
        "id": "0Ne11xb8ojki"
      }
    },
    {
      "cell_type": "markdown",
      "source": [],
      "metadata": {
        "id": "3KxHMknEojiK"
      }
    },
    {
      "cell_type": "markdown",
      "source": [],
      "metadata": {
        "id": "CVXd8gEoojfp"
      }
    },
    {
      "cell_type": "markdown",
      "source": [],
      "metadata": {
        "id": "K-z_0z3Mojda"
      }
    },
    {
      "cell_type": "markdown",
      "source": [
        "Similar results- now take only jobs with >= 50 entries"
      ],
      "metadata": {
        "id": "rfJtTV9wbCHH"
      }
    },
    {
      "cell_type": "code",
      "source": [
        "\n",
        "# הפרדת משתנים תלויים ובלתי תלויים\n",
        "X = filtered_data.drop(columns=['salary_in_usd'])  # הסרת עמודת המטרה\n",
        "y = filtered_data['salary_in_usd']\n",
        "\n",
        "# חלוקה לנתוני אימון ובדיקה\n",
        "X_train, X_test, y_train, y_test = train_test_split(X, y, test_size=0.2, random_state=42)\n",
        "\n",
        "# fot rf and xgboost\n",
        "# One-Hot Encoding למשתנים קטגוריאליים\n",
        "X_train_encoded = pd.get_dummies(X_train)\n",
        "X_test_encoded = pd.get_dummies(X_test)\n"
      ],
      "metadata": {
        "id": "5PkrdBPob5bK"
      },
      "execution_count": null,
      "outputs": []
    },
    {
      "cell_type": "code",
      "source": [
        "\n",
        "# התאמת המודל\n",
        "rf_model = RandomForestRegressor(random_state=42)\n",
        "rf_model.fit(X_train_encoded, y_train)\n",
        "\n",
        "# חיזוי\n",
        "y_pred_rf = rf_model.predict(X_test_encoded)\n",
        "\n",
        "# הערכת ביצועים\n",
        "mae_rf = mean_absolute_error(y_test, y_pred_rf)\n",
        "rmse_rf = np.sqrt(mean_squared_error(y_test, y_pred_rf))\n",
        "\n",
        "print(f\"Random Forest - MAE: {mae_rf:.2f}, RMSE: {rmse_rf:.2f}\")\n",
        "r2 = r2_score(y_test, y_pred_rf)\n",
        "print(f\"Explained Variance (R^2): {r2:.2f}\")\n"
      ],
      "metadata": {
        "id": "Gec2kYxjb5ZF",
        "outputId": "016be55c-6b8e-44bc-d1fd-31fa46f48d37",
        "colab": {
          "base_uri": "https://localhost:8080/"
        }
      },
      "execution_count": null,
      "outputs": [
        {
          "output_type": "stream",
          "name": "stdout",
          "text": [
            "Random Forest - MAE: 42060.22, RMSE: 55424.37\n",
            "Explained Variance (R^2): 0.23\n"
          ]
        }
      ]
    },
    {
      "cell_type": "code",
      "source": [
        "# התאמת המודל\n",
        "xgb_model = xgb.XGBRegressor(random_state=42)\n",
        "xgb_model.fit(X_train_encoded, y_train)\n",
        "\n",
        "# חיזוי\n",
        "y_pred_xgb = xgb_model.predict(X_test_encoded)\n",
        "\n",
        "# הערכת ביצועים\n",
        "mae_xgb = mean_absolute_error(y_test, y_pred_xgb)\n",
        "rmse_xgb = np.sqrt(mean_squared_error(y_test, y_pred_xgb))\n",
        "\n",
        "print(f\"XGBoost - MAE: {mae_xgb:.2f}, RMSE: {rmse_xgb:.2f}\")\n",
        "r2 = r2_score(y_test, y_pred_xgb)\n"
      ],
      "metadata": {
        "id": "ojiaCinsb5WK",
        "outputId": "203d25af-c47e-4994-deb6-a8ab77e9a1aa",
        "colab": {
          "base_uri": "https://localhost:8080/"
        }
      },
      "execution_count": null,
      "outputs": [
        {
          "output_type": "stream",
          "name": "stdout",
          "text": [
            "XGBoost - MAE: 41986.65, RMSE: 55327.50\n",
            "Explained Variance (R^2): 0.24\n"
          ]
        }
      ]
    },
    {
      "cell_type": "code",
      "source": [
        "# הגדרת מודל XGBoost עם תמיכה בקטגוריות\n",
        "xgb_model_categorized = xgb.XGBRegressor(random_state=42, enable_categorical=True)\n",
        "\n",
        "# אימון המודל\n",
        "xgb_model_categorized.fit(X_train, y_train)\n",
        "\n",
        "# חיזוי על נתוני הבדיקה\n",
        "y_pred_xgb = xgb_model_categorized.predict(X_test)\n",
        "\n",
        "# הערכת ביצועים\n",
        "mae_xgb = mean_absolute_error(y_test, y_pred_xgb)\n",
        "rmse_xgb = np.sqrt(mean_squared_error(y_test, y_pred_xgb))\n",
        "\n",
        "print(f\"XGBoost - MAE: {mae_xgb:.2f}, RMSE: {rmse_xgb:.2f}\")\n",
        "r2 = r2_score(y_test, y_pred_xgb)\n",
        "print(f\"Explained Variance (R^2): {r2:.2f}\")\n"
      ],
      "metadata": {
        "id": "u7pWcSFIb5Tv",
        "outputId": "8d59d798-dd8b-446b-8453-82ecf7a40ce2",
        "colab": {
          "base_uri": "https://localhost:8080/"
        }
      },
      "execution_count": null,
      "outputs": [
        {
          "output_type": "stream",
          "name": "stdout",
          "text": [
            "XGBoost - MAE: 42332.03, RMSE: 56043.78\n",
            "Explained Variance (R^2): 0.22\n"
          ]
        }
      ]
    },
    {
      "cell_type": "code",
      "source": [
        "# יצירת דאטה ל-LightGBM\n",
        "train_data = lgb.Dataset(X_train, label=y_train, categorical_feature=categorical_columns)\n",
        "test_data = lgb.Dataset(X_test, label=y_test, reference=train_data, categorical_feature=categorical_columns)\n",
        "\n",
        "# פרמטרים למודל\n",
        "params = {\n",
        "    'objective': 'regression',\n",
        "    'metric': 'rmse',\n",
        "    'boosting_type': 'gbdt',\n",
        "    'learning_rate': 0.05,\n",
        "    'num_leaves': 31,\n",
        "    'verbose': -1\n",
        "}\n",
        "\n",
        "# אימון המודל\n",
        "model = lgb.train(\n",
        "    params,\n",
        "    train_data,\n",
        "    valid_sets=[train_data, test_data],\n",
        "    num_boost_round=1000,\n",
        "    callbacks=[\n",
        "        lgb.early_stopping(stopping_rounds=3),\n",
        "        ]\n",
        ")\n",
        "\n",
        "# חיזוי\n",
        "y_pred = model.predict(X_test, num_iteration=model.best_iteration)\n",
        "\n",
        "# חישוב MSE\n",
        "mse = mean_squared_error(y_test, y_pred)\n",
        "\n",
        "# חישוב RMSE ידנית\n",
        "rmse = np.sqrt(mse)\n",
        "\n",
        "print(f\"Mean Squared Error: {mse:.2f}\")\n",
        "print(f\"Root Mean Squared Error: {rmse:.2f}\")\n",
        "r2 = r2_score(y_test, y_pred)\n",
        "print(f\"Explained Variance (R^2): {r2:.2f}\")\n"
      ],
      "metadata": {
        "id": "ZUVp53n3bcHW",
        "outputId": "8cabcbe6-880e-4b1f-9e98-a263a40e92ed",
        "colab": {
          "base_uri": "https://localhost:8080/"
        }
      },
      "execution_count": null,
      "outputs": [
        {
          "output_type": "stream",
          "name": "stdout",
          "text": [
            "Training until validation scores don't improve for 3 rounds\n",
            "Early stopping, best iteration is:\n",
            "[142]\ttraining's rmse: 54362\tvalid_1's rmse: 54834.2\n",
            "Mean Squared Error: 3006787157.72\n",
            "Root Mean Squared Error: 54834.18\n",
            "Explained Variance (R^2): 0.25\n"
          ]
        }
      ]
    },
    {
      "cell_type": "code",
      "source": [],
      "metadata": {
        "id": "P2srMGKkjmro"
      },
      "execution_count": null,
      "outputs": []
    },
    {
      "cell_type": "markdown",
      "source": [],
      "metadata": {
        "id": "cFy8jLnvjmil"
      }
    },
    {
      "cell_type": "code",
      "source": [],
      "metadata": {
        "colab": {
          "base_uri": "https://localhost:8080/"
        },
        "id": "HJmw4sUFeFYW",
        "outputId": "b2a0c826-2b56-4571-dfef-57a0e96efd1e"
      },
      "execution_count": null,
      "outputs": [
        {
          "output_type": "stream",
          "name": "stdout",
          "text": [
            "Relative RMSE: 37.07%\n"
          ]
        }
      ]
    },
    {
      "cell_type": "code",
      "source": [],
      "metadata": {
        "id": "0nYESvTWeFQK"
      },
      "execution_count": null,
      "outputs": []
    },
    {
      "cell_type": "code",
      "source": [],
      "metadata": {
        "id": "sEPAr4wDeFLL"
      },
      "execution_count": null,
      "outputs": []
    },
    {
      "cell_type": "code",
      "source": [],
      "metadata": {
        "id": "Q9PyYGlGm2CS"
      },
      "execution_count": null,
      "outputs": []
    },
    {
      "cell_type": "code",
      "source": [],
      "metadata": {
        "id": "aIMdqzzwm2Yi"
      },
      "execution_count": null,
      "outputs": []
    },
    {
      "cell_type": "code",
      "source": [],
      "metadata": {
        "id": "Bwaq7aB9m2WJ"
      },
      "execution_count": null,
      "outputs": []
    },
    {
      "cell_type": "code",
      "source": [],
      "metadata": {
        "id": "b8y-lCW5o862"
      },
      "execution_count": null,
      "outputs": []
    },
    {
      "cell_type": "code",
      "source": [
        "import lightgbm as lgb\n",
        "from sklearn.metrics import mean_squared_error, r2_score\n",
        "import numpy as np\n",
        "\n",
        "# יצירת דאטה ל-LightGBM עם free_raw_data=False\n",
        "train_data = lgb.Dataset(\n",
        "    X_train,\n",
        "    label=y_train,\n",
        "    categorical_feature=categorical_columns,\n",
        "    free_raw_data=False\n",
        ")\n",
        "\n",
        "test_data = lgb.Dataset(\n",
        "    X_test,\n",
        "    label=y_test,\n",
        "    reference=train_data,\n",
        "    categorical_feature=categorical_columns,\n",
        "    free_raw_data=False\n",
        ")\n",
        "\n",
        "# פונקציה להרצת ניסויים\n",
        "def run_lgb_experiment(params_list, train_data, test_data, X_test, y_test):\n",
        "    results = []\n",
        "    for params in params_list:\n",
        "        # אימון המודל\n",
        "        model = lgb.train(\n",
        "            params,\n",
        "            train_data,\n",
        "            valid_sets=[train_data, test_data],\n",
        "            num_boost_round=1000,\n",
        "            callbacks=[lgb.early_stopping(stopping_rounds=10)]\n",
        "        )\n",
        "\n",
        "        # חיזוי\n",
        "        y_pred = model.predict(X_test, num_iteration=model.best_iteration)\n",
        "\n",
        "        # הערכת הביצועים\n",
        "        mse = mean_squared_error(y_test, y_pred)\n",
        "        rmse = np.sqrt(mse)\n",
        "        r2 = r2_score(y_test, y_pred)\n",
        "\n",
        "        # שמירת התוצאה\n",
        "        results.append({\n",
        "            'params': params,\n",
        "            'mse': mse,\n",
        "            'rmse': rmse,\n",
        "            'r2': r2\n",
        "        })\n",
        "\n",
        "    return results\n",
        "\n",
        "# רשימת פרמטרים לניסוי\n",
        "params_list = [\n",
        "    {\n",
        "        'objective': 'regression',\n",
        "        'metric': 'rmse',\n",
        "        'boosting_type': 'gbdt',\n",
        "        'learning_rate': lr,\n",
        "        'num_leaves': leaves,\n",
        "        'min_data_in_leaf': min_data,\n",
        "        'feature_fraction': feature_frac,\n",
        "        'bagging_fraction': bagging_frac,\n",
        "        'verbose': -1\n",
        "    }\n",
        "    for lr in [0.01, 0.05, 0.1]  # ניסוי עם Learning Rate משתנה\n",
        "    for leaves in [15, 31, 63]  # מספר עלים\n",
        "    for min_data in [20, 50, 100]  # מינימום דוגמאות בכל עלה\n",
        "    for feature_frac in [0.6, 0.8, 1.0]  # אחוז פיצ'רים\n",
        "    for bagging_frac in [0.6, 0.8, 1.0]  # אחוז דוגמאות\n",
        "]\n",
        "\n",
        "# הרצת הניסוי\n",
        "results = run_lgb_experiment(params_list, train_data, test_data, X_test, y_test)\n",
        "\n",
        "# הדפסת התוצאות הטובות ביותר\n",
        "best_result = min(results, key=lambda x: x['rmse'])\n",
        "print(\"Best Parameters:\")\n",
        "print(best_result['params'])\n",
        "print(f\"RMSE: {best_result['rmse']:.2f}, R^2: {best_result['r2']:.2f}\")\n"
      ],
      "metadata": {
        "id": "OX1MEOI3jmy6"
      },
      "execution_count": null,
      "outputs": []
    },
    {
      "cell_type": "code",
      "source": [],
      "metadata": {
        "id": "uvy13YOmv705"
      },
      "execution_count": null,
      "outputs": []
    }
  ]
}
