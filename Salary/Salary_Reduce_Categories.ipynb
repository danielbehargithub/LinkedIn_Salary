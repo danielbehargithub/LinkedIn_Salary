{
  "nbformat": 4,
  "nbformat_minor": 0,
  "metadata": {
    "colab": {
      "provenance": [],
      "authorship_tag": "ABX9TyNMuFimcX5invF0efh0kmhJ",
      "include_colab_link": true
    },
    "kernelspec": {
      "name": "python3",
      "display_name": "Python 3"
    },
    "language_info": {
      "name": "python"
    }
  },
  "cells": [
    {
      "cell_type": "markdown",
      "metadata": {
        "id": "view-in-github",
        "colab_type": "text"
      },
      "source": [
        "<a href=\"https://colab.research.google.com/github/danielbehargithub/LinkedIn_Salary/blob/main/Salary/Salary_Reduce_Categories.ipynb\" target=\"_parent\"><img src=\"https://colab.research.google.com/assets/colab-badge.svg\" alt=\"Open In Colab\"/></a>"
      ]
    },
    {
      "cell_type": "code",
      "source": [
        "!pip install lightgbm\n",
        "!pip install --upgrade lightgbm\n",
        "!pip install pycountry_convert\n",
        "!pip install \"dask[dataframe]\"\n"
      ],
      "metadata": {
        "id": "XYfMFhd1Yjqo"
      },
      "execution_count": null,
      "outputs": []
    },
    {
      "cell_type": "code",
      "source": [
        "from sklearn.model_selection import train_test_split\n",
        "from sklearn.ensemble import RandomForestRegressor\n",
        "from sklearn.linear_model import LinearRegression\n",
        "from sklearn.preprocessing import OrdinalEncoder\n",
        "from sklearn.metrics import mean_absolute_error, mean_squared_error, r2_score, mean_absolute_percentage_error\n",
        "from sklearn.cluster import MiniBatchKMeans\n",
        "from gensim.models import Word2Vec\n",
        "from sklearn.feature_extraction.text import TfidfVectorizer\n",
        "\n",
        "import pandas as pd\n",
        "import numpy as np\n",
        "import matplotlib.pyplot as plt\n",
        "import matplotlib.ticker as mtick\n",
        "import seaborn as sns\n",
        "import pycountry_convert as pc\n",
        "from collections import Counter\n",
        "\n",
        "import xgboost as xgb\n",
        "import lightgbm as lgb\n",
        "import requests\n",
        "import io\n",
        "\n",
        "import re\n"
      ],
      "metadata": {
        "id": "usidD1klqhxn"
      },
      "execution_count": null,
      "outputs": []
    },
    {
      "cell_type": "code",
      "source": [
        "# Define the base URL and the download path\n",
        "base_url = \"https://aijobs.net\"\n",
        "download_path = \"/salaries/download/salaries.csv\"\n",
        "\n",
        "# Construct the full URL for the CSV file\n",
        "download_url = base_url + download_path\n",
        "\n",
        "# Send a GET request to download the file\n",
        "response = requests.get(download_url, allow_redirects=True)\n",
        "\n",
        "# Check if the request was successful\n",
        "if response.status_code == 200:\n",
        "    print(\"File downloaded successfully. Loading into DataFrame...\")\n",
        "\n",
        "    # Read the CSV file directly into a pandas DataFrame from the response content\n",
        "    data = pd.read_csv(io.StringIO(response.text))\n",
        "\n",
        "    # Print general dataset information\n",
        "    print(\"\\n🔹 Dataset Overview:\")\n",
        "    print(f\"Shape: {data.shape}\")  # Number of rows and columns\n",
        "    print(f\"Columns: {data.columns.tolist()}\")  # Column names\n",
        "    print(\"\\n🔹 Data Types and Missing Values:\")\n",
        "    print(data.info())  # Data types and non-null counts\n",
        "    print(\"\\n🔹 Statistical Summary:\")\n",
        "    print(data.describe())  # Summary statistics for numerical columns\n",
        "\n",
        "else:\n",
        "    print(f\"Failed to download file. Status code: {response.status_code}\")\n"
      ],
      "metadata": {
        "colab": {
          "base_uri": "https://localhost:8080/"
        },
        "id": "T1IRr5eJqfSU",
        "outputId": "2e5d78c3-e0f8-4617-e8d4-90b3edcbbb28"
      },
      "execution_count": null,
      "outputs": [
        {
          "output_type": "stream",
          "name": "stdout",
          "text": [
            "File downloaded successfully. Loading into DataFrame...\n",
            "\n",
            "🔹 Dataset Overview:\n",
            "Shape: (81388, 11)\n",
            "Columns: ['work_year', 'experience_level', 'employment_type', 'job_title', 'salary', 'salary_currency', 'salary_in_usd', 'employee_residence', 'remote_ratio', 'company_location', 'company_size']\n",
            "\n",
            "🔹 Data Types and Missing Values:\n",
            "<class 'pandas.core.frame.DataFrame'>\n",
            "RangeIndex: 81388 entries, 0 to 81387\n",
            "Data columns (total 11 columns):\n",
            " #   Column              Non-Null Count  Dtype \n",
            "---  ------              --------------  ----- \n",
            " 0   work_year           81388 non-null  int64 \n",
            " 1   experience_level    81388 non-null  object\n",
            " 2   employment_type     81388 non-null  object\n",
            " 3   job_title           81388 non-null  object\n",
            " 4   salary              81388 non-null  int64 \n",
            " 5   salary_currency     81388 non-null  object\n",
            " 6   salary_in_usd       81388 non-null  int64 \n",
            " 7   employee_residence  81388 non-null  object\n",
            " 8   remote_ratio        81388 non-null  int64 \n",
            " 9   company_location    81388 non-null  object\n",
            " 10  company_size        81388 non-null  object\n",
            "dtypes: int64(4), object(7)\n",
            "memory usage: 6.8+ MB\n",
            "None\n",
            "\n",
            "🔹 Statistical Summary:\n",
            "          work_year        salary  salary_in_usd  remote_ratio\n",
            "count  81388.000000  8.138800e+04   81388.000000  81388.000000\n",
            "mean    2023.949464  1.625505e+05  157878.171475     21.527129\n",
            "std        0.573830  2.034772e+05   73206.244583     40.993908\n",
            "min     2020.000000  1.400000e+04   15000.000000      0.000000\n",
            "25%     2024.000000  1.065000e+05  106500.000000      0.000000\n",
            "50%     2024.000000  1.475600e+05  147000.000000      0.000000\n",
            "75%     2024.000000  2.000000e+05  199400.000000      0.000000\n",
            "max     2025.000000  3.040000e+07  800000.000000    100.000000\n"
          ]
        }
      ]
    },
    {
      "cell_type": "code",
      "source": [
        "def country_to_continent(country_code):\n",
        "    try:\n",
        "        continent_code = pc.country_alpha2_to_continent_code(country_code)\n",
        "        continent_names = {\n",
        "            \"NA\": \"North America\",\n",
        "            \"SA\": \"South America\",\n",
        "            \"EU\": \"Europe\",\n",
        "            \"AF\": \"Africa\",\n",
        "            \"AS\": \"Asia\",\n",
        "            \"OC\": \"Oceania\"\n",
        "        }\n",
        "        return continent_names.get(continent_code, \"Other\")\n",
        "    except:\n",
        "        return \"Other\"  # Default if country not recognized\n",
        "\n",
        "# Add new continent-based columns (keeping original country columns)\n",
        "data[\"company_continent\"] = data[\"company_location\"].apply(country_to_continent)\n",
        "data[\"residence_continent\"] = data[\"employee_residence\"].apply(country_to_continent)\n"
      ],
      "metadata": {
        "id": "lYNhdmPjGb3c"
      },
      "execution_count": null,
      "outputs": []
    },
    {
      "cell_type": "code",
      "source": [
        "# Step 1: Clean job titles (lowercase, remove special characters)\n",
        "def clean_text(text):\n",
        "    text = text.lower()\n",
        "    text = re.sub(r'[^a-z\\s]', '', text)  # Keep only letters and spaces\n",
        "    return text\n",
        "\n",
        "data[\"cleaned_job_title\"] = data[\"job_title\"].astype(str).apply(clean_text)  # Ensure text format\n",
        "\n",
        "# Step 2: Use TF-IDF with Bi-Grams (Lower Memory Usage)\n",
        "vectorizer = TfidfVectorizer(stop_words='english', ngram_range=(1, 2), min_df=3, max_features=500)  # Reduce features\n",
        "job_title_vectors = vectorizer.fit_transform(data[\"cleaned_job_title\"])\n",
        "\n",
        "# Step 3: Tokenize job titles for Word2Vec training\n",
        "data[\"job_tokens\"] = data[\"cleaned_job_title\"].apply(lambda x: x.split())\n",
        "\n",
        "# Step 4: Train Word2Vec with Lower Dimensions to Prevent Memory Overload\n",
        "word2vec = Word2Vec(sentences=data[\"job_tokens\"].tolist(), vector_size=25, window=3, min_count=2, workers=2, sample=1e-4)\n",
        "\n",
        "# Step 5: Convert job titles into numerical vectors using Word2Vec embeddings\n",
        "def job_title_vector(tokens):\n",
        "    vectors = [word2vec.wv[word] for word in tokens if word in word2vec.wv]\n",
        "    return np.mean(vectors, axis=0) if vectors else np.zeros(25)  # Reduce embedding size\n",
        "\n",
        "# Apply vectorization safely\n",
        "data[\"job_vector\"] = data[\"job_tokens\"].apply(lambda tokens: job_title_vector(tokens))\n",
        "\n",
        "# Step 6: Stack vectors into a NumPy array for clustering\n",
        "job_matrix = np.vstack(data[\"job_vector\"].values)\n",
        "\n",
        "# Step 7: Apply MiniBatch K-Means (Optimized for Large Datasets)\n",
        "num_clusters = 15  # Adjustable\n",
        "mini_kmeans = MiniBatchKMeans(n_clusters=num_clusters, random_state=42, batch_size=256)\n",
        "data[\"job_cluster\"] = mini_kmeans.fit_predict(job_matrix)\n",
        "\n",
        "# Step 8: Identify dominant words per cluster\n",
        "from collections import Counter\n",
        "\n",
        "def get_top_words_per_cluster(n_top_words=5):\n",
        "    cluster_keywords = {}\n",
        "    for cluster in range(num_clusters):\n",
        "        words = \" \".join(data[data[\"job_cluster\"] == cluster][\"cleaned_job_title\"]).split()\n",
        "        common_words = [word for word, _ in Counter(words).most_common(n_top_words)]\n",
        "        cluster_keywords[cluster] = common_words\n",
        "    return cluster_keywords\n",
        "\n",
        "# Print top words per cluster\n",
        "cluster_words = get_top_words_per_cluster()\n",
        "for cluster, words in cluster_words.items():\n",
        "    print(f\"Cluster {cluster}: {words}\")\n"
      ],
      "metadata": {
        "colab": {
          "base_uri": "https://localhost:8080/"
        },
        "id": "9PYiF_gTNcYm",
        "outputId": "466f3d9b-edfd-473e-ce5f-704b312e0c37"
      },
      "execution_count": null,
      "outputs": [
        {
          "output_type": "stream",
          "name": "stdout",
          "text": [
            "Cluster 0: ['data', 'engineer', 'manager', 'lead', 'infrastructure']\n",
            "Cluster 1: ['data', 'scientist', 'architect', 'solutions', 'analyst']\n",
            "Cluster 2: ['scientist', 'applied', 'decision', 'research', 'associate']\n",
            "Cluster 3: ['technical', 'statistical', 'programmer', 'lead', 'principal']\n",
            "Cluster 4: ['machine', 'learning', 'engineer', 'consultant', 'researcher']\n",
            "Cluster 5: ['engineer', 'software', 'analytics', 'research', 'manager']\n",
            "Cluster 6: ['developer', 'engineer', 'bi', 'data', 'head']\n",
            "Cluster 7: ['analyst', 'data', 'architect', 'lead', 'product']\n",
            "Cluster 8: ['manager', 'product', 'engineer', 'ai', 'solutions']\n",
            "Cluster 9: ['associate', 'statistician', 'bioinformatician', 'stage']\n",
            "Cluster 10: ['research', 'scientist', 'analyst', 'data', 'insight']\n",
            "Cluster 11: ['engineer', 'systems', 'platform', 'devops', 'backend']\n",
            "Cluster 12: ['data', 'developer', 'specialist', 'analyst', 'engineer']\n",
            "Cluster 13: ['engineer', 'controls']\n",
            "Cluster 14: ['business', 'intelligence', 'analyst', 'engineer', 'architect']\n"
          ]
        }
      ]
    },
    {
      "cell_type": "code",
      "source": [
        "def show_unique_clustered_jobs_with_keywords(data, num_clusters, n_top_words=5):\n",
        "    \"\"\"\n",
        "    Display unique job titles with their assigned clusters, most common words in each cluster,\n",
        "    and the number of occurrences of each job title, sorted by frequency.\n",
        "    \"\"\"\n",
        "    # Compute most common words per cluster\n",
        "    cluster_keywords = {}\n",
        "    for cluster in range(num_clusters):\n",
        "        words = \" \".join(data[data[\"job_cluster\"] == cluster][\"cleaned_job_title\"]).split()\n",
        "        common_words = [word for word, _ in Counter(words).most_common(n_top_words)]\n",
        "        cluster_keywords[cluster] = \", \".join(common_words)\n",
        "\n",
        "    # Aggregate job titles, keeping only unique titles and their cluster assignments\n",
        "    job_counts = data.groupby(['job_title', 'job_cluster']).size().reset_index(name=\"count\")\n",
        "\n",
        "    # Add top words for each cluster\n",
        "    job_counts[\"top_cluster_words\"] = job_counts[\"job_cluster\"].map(cluster_keywords)\n",
        "\n",
        "    # Sort by the number of occurrences of each job title (descending order)\n",
        "    job_counts = job_counts.sort_values(by=\"count\", ascending=False)\n",
        "\n",
        "    return job_counts\n",
        "\n",
        "# Get the processed job title clustering information\n",
        "job_cluster_summary = show_unique_clustered_jobs_with_keywords(data, num_clusters=15)\n",
        "\n",
        "# Display the dataframe for easy inspection\n",
        "import pandas as pd\n",
        "\n",
        "# Show first 50 rows in a readable format\n",
        "print(job_cluster_summary.head(50).to_string(index=False))\n",
        "\n",
        "# Optionally save to a CSV for manual review\n",
        "job_cluster_summary.to_csv(\"job_cluster_summary.csv\", index=False)\n",
        "print(\"The job clustering results have been saved as 'job_cluster_summary.csv' for further inspection.\")\n"
      ],
      "metadata": {
        "colab": {
          "base_uri": "https://localhost:8080/"
        },
        "id": "nKfd4iqrQX4m",
        "outputId": "8e2704cf-849a-4dc4-c8f0-c738f59f89ad"
      },
      "execution_count": null,
      "outputs": [
        {
          "output_type": "stream",
          "name": "stdout",
          "text": [
            "                      job_title  job_cluster  count                                    top_cluster_words\n",
            "                 Data Scientist            1  12431       data, scientist, architect, solutions, analyst\n",
            "                  Data Engineer            0  10142        data, engineer, manager, lead, infrastructure\n",
            "              Software Engineer            5   8792     engineer, software, analytics, research, manager\n",
            "                   Data Analyst            7   7997              analyst, data, architect, lead, product\n",
            "      Machine Learning Engineer            4   6159  machine, learning, engineer, consultant, researcher\n",
            "                       Engineer           13   4717                                   engineer, controls\n",
            "                        Manager            8   3038            manager, product, engineer, ai, solutions\n",
            "             Research Scientist           10   2403          research, scientist, analyst, data, insight\n",
            "                        Analyst            7   1724              analyst, data, architect, lead, product\n",
            "              Applied Scientist            2   1706    scientist, applied, decision, research, associate\n",
            "                 Data Architect            7   1397              analyst, data, architect, lead, product\n",
            "             Analytics Engineer            5   1284     engineer, software, analytics, research, manager\n",
            "                Product Manager            8   1176            manager, product, engineer, ai, solutions\n",
            "              Research Engineer            5   1115     engineer, software, analytics, research, manager\n",
            "                      Associate            9   1062     associate, statistician, bioinformatician, stage\n",
            "                    AI Engineer            8    754            manager, product, engineer, ai, solutions\n",
            "                   Data Manager            0    657        data, engineer, manager, lead, infrastructure\n",
            " Business Intelligence Engineer           14    648 business, intelligence, analyst, engineer, architect\n",
            "    Machine Learning Researcher            4    551  machine, learning, engineer, consultant, researcher\n",
            "                     Consultant            4    551  machine, learning, engineer, consultant, researcher\n",
            "                Data Specialist           12    478       data, developer, specialist, analyst, engineer\n",
            "  Business Intelligence Analyst           14    477 business, intelligence, analyst, engineer, architect\n",
            "            Solutions Architect            1    446       data, scientist, architect, solutions, analyst\n",
            "            Engineering Manager            5    416     engineer, software, analytics, research, manager\n",
            "  Software Development Engineer            5    415     engineer, software, analytics, research, manager\n",
            "               Systems Engineer           11    370         engineer, systems, platform, devops, backend\n",
            "             Software Developer           12    368       data, developer, specialist, analyst, engineer\n",
            "               Research Analyst           10    365          research, scientist, analyst, data, insight\n",
            "     Machine Learning Scientist            4    328  machine, learning, engineer, consultant, researcher\n",
            "          Business Intelligence           14    290 business, intelligence, analyst, engineer, architect\n",
            "Business Intelligence Developer           12    269       data, developer, specialist, analyst, engineer\n",
            "                      Developer            6    258                  developer, engineer, bi, data, head\n",
            "              Platform Engineer           11    254         engineer, systems, platform, devops, backend\n",
            "      Site Reliability Engineer           12    252       data, developer, specialist, analyst, engineer\n",
            "                DevOps Engineer           11    252         engineer, systems, platform, devops, backend\n",
            "               Business Analyst           14    217 business, intelligence, analyst, engineer, architect\n",
            "                   BI Developer            6    214                  developer, engineer, bi, data, head\n",
            "                   Head of Data            6    192                  developer, engineer, bi, data, head\n",
            "             Solutions Engineer            8    189            manager, product, engineer, ai, solutions\n",
            "           Data Product Manager            8    178            manager, product, engineer, ai, solutions\n",
            "                      Data Lead           12    176       data, developer, specialist, analyst, engineer\n",
            "               Backend Engineer           11    165         engineer, systems, platform, devops, backend\n",
            "             Decision Scientist            2    164    scientist, applied, decision, research, associate\n",
            "                   AI Architect            1    159       data, scientist, architect, solutions, analyst\n",
            "         Data Analytics Manager            1    158       data, scientist, architect, solutions, analyst\n",
            "                      Architect           14    148 business, intelligence, analyst, engineer, architect\n",
            "                     BI Analyst           12    137       data, developer, specialist, analyst, engineer\n",
            "        Data Management Analyst           12    136       data, developer, specialist, analyst, engineer\n",
            "                   Data Modeler           11    126         engineer, systems, platform, devops, backend\n",
            "     Data Management Specialist           12    119       data, developer, specialist, analyst, engineer\n",
            "The job clustering results have been saved as 'job_cluster_summary.csv' for further inspection.\n"
          ]
        }
      ]
    },
    {
      "cell_type": "code",
      "execution_count": null,
      "metadata": {
        "id": "IZusVdMqCBH-",
        "outputId": "d49c1d90-9dae-457e-d270-47c5be0b36b2",
        "colab": {
          "base_uri": "https://localhost:8080/"
        }
      },
      "outputs": [
        {
          "output_type": "stream",
          "name": "stdout",
          "text": [
            "\n",
            "🔹 Unique value count per categorical column:\n",
            "\n",
            "experience_level: 4 unique values\n",
            "employment_type: 4 unique values\n",
            "employee_residence: 95 unique values\n",
            "company_location: 89 unique values\n",
            "company_size: 3 unique values\n",
            "job_title: 300 unique values\n",
            "remote_ratio: 3 unique values\n",
            "company_continent: 6 unique values\n",
            "residence_continent: 6 unique values\n",
            "job_cluster: 15 unique values\n"
          ]
        }
      ],
      "source": [
        "\n",
        "data = data.drop(columns=[\"salary\", \"salary_currency\", \"cleaned_job_title\", \"job_tokens\", \"job_vector\"])\n",
        "\n",
        "# Identify categorical columns dynamically (excluding the target column)\n",
        "categorical_columns = [\n",
        "    'experience_level', 'employment_type', 'employee_residence',\n",
        "    'company_location', 'company_size', 'job_title', 'remote_ratio', 'company_continent', 'residence_continent', 'job_cluster'\n",
        "]\n",
        "\n",
        "# Convert categorical columns to categorical dtype\n",
        "for col in categorical_columns:\n",
        "    data[col] = data[col].astype('category')\n",
        "\n",
        "\n",
        "# Print the number of unique values for each categorical column\n",
        "print(\"\\n🔹 Unique value count per categorical column:\\n\")\n",
        "for col in categorical_columns:\n",
        "    unique_count = data[col].nunique()\n",
        "    print(f\"{col}: {unique_count} unique values\")\n"
      ]
    },
    {
      "cell_type": "markdown",
      "source": [
        "## Evaluation Metrics for Regression Models\n",
        "\n",
        "When evaluating regression models, different metrics provide insight into the accuracy and reliability of predictions. Here, we discuss key metrics and their relevance to our salary prediction problem.\n",
        "\n",
        "### 1. Root Mean Squared Error (RMSE)\n",
        "RMSE measures the standard deviation of residuals (prediction errors). It penalizes large errors more than small ones, making it sensitive to outliers. RMSE is the metric we aim to **minimize** in order to improve model quality.\n",
        "\n",
        "- **Pros:** Penalizes large errors more than small ones, providing a more accurate representation of error distribution.\n",
        "- **Cons:** Sensitive to outliers, which might not always reflect real-world importance.\n",
        "\n",
        "### 2. RMSE / σ Ratio\n",
        "RMSE divided by the standard deviation of the actual values provides insight into how well the model performs compared to the natural variability of the data. This helps in understanding if the model improves prediction beyond just assuming the variance in salaries.\n",
        "\n",
        "- **Pros:** Allows comparison between datasets with different scales.\n",
        "- **Cons:** If the dataset contains extreme variance, this metric alone may not fully reflect model effectiveness.\n",
        "\n",
        "### 3. Mean Absolute Error (MAE)\n",
        "MAE is the average of absolute differences between actual and predicted values. It gives an equal weight to all errors.\n",
        "\n",
        "- **Pros:** Less sensitive to outliers than RMSE, provides a straightforward measure of prediction accuracy.\n",
        "- **Cons:** Does not square errors, so larger errors do not contribute as much.\n",
        "\n",
        "### 4. Mean Absolute Percentage Error (MAPE)\n",
        "MAPE expresses the error as a percentage of the actual values, making it easier to interpret. MAPE is the metric that provides a **practical, intuitive feeling** of model accuracy in real-world terms.\n",
        "\n",
        "- **Pros:** Provides an intuitive percentage-based error, useful for business decisions.\n",
        "- **Cons:** Can be distorted when actual values are very small, leading to exaggerated percentages.\n",
        "\n",
        "### 5. R-Squared (\\( R^2 \\))\n",
        "R-Squared measures the proportion of variance explained by the model. It does not measure absolute error but rather how much better the model performs compared to simply predicting the mean salary.\n",
        "\n",
        "- **Pros:** Indicates how well the model explains variance in data.\n",
        "- **Cons:** Does not indicate whether predictions are biased or suffer from systematic errors.\n",
        "\n",
        "## Key Takeaways for Salary Prediction\n",
        "- **RMSE is the primary metric to minimize**, as it represents overall model quality and large deviations.\n",
        "- **MAPE provides an intuitive measure of error** from a business perspective.\n",
        "- **MAE helps balance RMSE, ensuring errors are not dominated by large outliers.**\n",
        "- **RMSE / σ Ratio indicates whether the model significantly improves upon raw salary variability.**\n",
        "- **R² tells us how much variance in salaries is explained by the model.**\n",
        "\n",
        "For our dataset, RMSE alone may not be sufficient since salaries have a wide range. **MAPE and RMSE / σ Ratio together provide deeper insights into model performance.**"
      ],
      "metadata": {
        "id": "3x-rHcUL3re3"
      }
    },
    {
      "cell_type": "code",
      "source": [
        "salary_min = data['salary_in_usd'].min()\n",
        "salary_max = data['salary_in_usd'].max()\n",
        "salary_mean = data['salary_in_usd'].mean()\n",
        "\n",
        "print(f\"Minimum Salary: {salary_min:,.2f}\")\n",
        "print(f\"Maximum Salary: {salary_max:,.2f}\")\n",
        "print(f\"Mean Salary: {salary_mean:,.2f}\")\n",
        "salary_std = data['salary_in_usd'].std()\n",
        "print(f\"Standard Deviation of Salary: {salary_std:,.2f}\")\n"
      ],
      "metadata": {
        "id": "O3QJ2IJEcv3S",
        "outputId": "a8d4645e-8617-4210-9e22-a34ddf9d88a4",
        "colab": {
          "base_uri": "https://localhost:8080/"
        }
      },
      "execution_count": null,
      "outputs": [
        {
          "output_type": "stream",
          "name": "stdout",
          "text": [
            "Minimum Salary: 15,000.00\n",
            "Maximum Salary: 800,000.00\n",
            "Mean Salary: 157,878.17\n",
            "Standard Deviation of Salary: 73,206.24\n"
          ]
        }
      ]
    },
    {
      "cell_type": "markdown",
      "source": [
        "Naive model"
      ],
      "metadata": {
        "id": "7LnbGfjMtYwm"
      }
    },
    {
      "cell_type": "code",
      "source": [
        "# Target variable\n",
        "y = data['salary_in_usd']\n",
        "\n",
        "# 1️⃣ Full Data (No simplifications)\n",
        "X_full = data.drop(columns=[\"salary_in_usd\"])\n",
        "\n",
        "# 2️⃣ Locations Simplified (Use continents instead of country names)\n",
        "X_location_simplified = data.drop(columns=[\"salary_in_usd\", \"company_location\", \"employee_residence\", \"job_cluster\"])\n",
        "\n",
        "# 3️⃣ Jobs Simplified (Use job clusters instead of full job titles)\n",
        "X_jobs_simplified = data.drop(columns=[\"salary_in_usd\", \"job_title\", 'company_continent', 'residence_continent'])\n",
        "\n",
        "# 4️⃣ Both Jobs & Locations Simplified\n",
        "X_fully_simplified = data.drop(columns=[\"salary_in_usd\", \"job_title\", \"company_location\", \"employee_residence\"])\n",
        "\n",
        "# Train-test split for all versions\n",
        "datasets = {\n",
        "    \"full\": X_full,\n",
        "    \"location_simplified\": X_location_simplified,\n",
        "    \"jobs_simplified\": X_jobs_simplified,\n",
        "    \"fully_simplified\": X_fully_simplified\n",
        "}\n",
        "\n",
        "splits = {}\n",
        "for name, X in datasets.items():\n",
        "    X_train, X_test, y_train, y_test = train_test_split(X, y, test_size=0.2, random_state=42)\n",
        "\n",
        "    # Encode categorical variables\n",
        "    X_train_encoded = pd.get_dummies(X_train)\n",
        "    X_test_encoded = pd.get_dummies(X_test)\n",
        "\n",
        "    # Store in dictionary\n",
        "    splits[name] = {\n",
        "        \"X_train\": X_train_encoded,\n",
        "        \"X_test\": X_test_encoded,\n",
        "        \"y_train\": y_train,\n",
        "        \"y_test\": y_test\n",
        "    }\n",
        "\n",
        "# Confirm datasets are ready\n",
        "for name in splits:\n",
        "    print(f\"✅ {name}: {splits[name]['X_train'].shape} train | {splits[name]['X_test'].shape} test\")\n"
      ],
      "metadata": {
        "colab": {
          "base_uri": "https://localhost:8080/"
        },
        "id": "1IEalSCVTKyD",
        "outputId": "4a1b3ffe-e8f6-4d80-ed19-828ab2ae799f"
      },
      "execution_count": null,
      "outputs": [
        {
          "output_type": "stream",
          "name": "stdout",
          "text": [
            "✅ full: (65110, 526) train | (16278, 526) test\n",
            "✅ location_simplified: (65110, 327) train | (16278, 327) test\n",
            "✅ jobs_simplified: (65110, 214) train | (16278, 214) test\n",
            "✅ fully_simplified: (65110, 42) train | (16278, 42) test\n"
          ]
        }
      ]
    },
    {
      "cell_type": "code",
      "source": [
        "# Function to evaluate model performance\n",
        "def evaluate_model(model_name, y_true, y_pred):\n",
        "    mae = mean_absolute_error(y_true, y_pred)\n",
        "    mape = mean_absolute_percentage_error(y_true, y_pred) * 100  # Convert to percentage\n",
        "    rmse = np.sqrt(mean_squared_error(y_true, y_pred))\n",
        "    r2 = r2_score(y_true, y_pred)\n",
        "    std_dev = np.std(y_true)  # Standard deviation of actual values\n",
        "    rmse_sigma_ratio = rmse / std_dev  # RMSE relative to standard deviation\n",
        "\n",
        "    print(f\"📊 {model_name} Performance:\")\n",
        "    print(f\"MAE: {mae:,.2f}\")\n",
        "    print(f\"MAPE: {mape:.2f}%\")\n",
        "    print(f\"RMSE: {rmse:,.2f}\")\n",
        "    print(f\"RMSE / σ Ratio: {rmse_sigma_ratio:.2f}\")\n",
        "    print(f\"R²: {r2:.4f}\")\n",
        "    print(\"-\" * 50)\n",
        "\n",
        "    return {\"Model\": model_name, \"MAE\": mae, \"MAPE\": mape, \"RMSE\": rmse, \"RMSE / σ Ratio\": rmse_sigma_ratio, \"R²\": r2}\n"
      ],
      "metadata": {
        "id": "Zb9uaI3v9XUM"
      },
      "execution_count": null,
      "outputs": []
    },
    {
      "cell_type": "code",
      "source": [
        "# Compute baseline prediction (mean salary)\n",
        "baseline_prediction = np.mean(y_train)\n",
        "\n",
        "baseline_results = evaluate_model(\"Basline Prediction\", y_test, [baseline_prediction] * len(y_test))\n"
      ],
      "metadata": {
        "id": "1yHocQH_bcC7",
        "outputId": "c250aa0e-4642-4cbb-d850-62369f14b607",
        "colab": {
          "base_uri": "https://localhost:8080/"
        }
      },
      "execution_count": null,
      "outputs": [
        {
          "output_type": "stream",
          "name": "stdout",
          "text": [
            "📊 Basline Prediction Performance:\n",
            "MAE: 56,239.89\n",
            "MAPE: 48.94%\n",
            "RMSE: 73,347.27\n",
            "RMSE / σ Ratio: 1.00\n",
            "R²: -0.0001\n",
            "--------------------------------------------------\n"
          ]
        }
      ]
    },
    {
      "cell_type": "code",
      "source": [
        "# Dictionary to store results\n",
        "lr_results_list = []\n",
        "\n",
        "# Train & evaluate Linear Regression on all dataset versions\n",
        "for name, split in splits.items():\n",
        "    print(f\"🚀 Training on: {name} dataset...\")\n",
        "\n",
        "    # Extract train-test sets\n",
        "    X_train, X_test = split[\"X_train\"], split[\"X_test\"]\n",
        "    y_train, y_test = split[\"y_train\"], split[\"y_test\"]\n",
        "\n",
        "    # Train Linear Regression\n",
        "    lr_model = LinearRegression()\n",
        "    lr_model.fit(X_train, y_train)\n",
        "    y_pred = lr_model.predict(X_test)\n",
        "\n",
        "    # Evaluate model\n",
        "    result = evaluate_model(f\"Linear Regression ({name})\", y_test, y_pred)\n",
        "    lr_results_list.append(result)\n",
        "\n",
        "# Convert results into a DataFrame for easy comparison\n",
        "lr_results_df = pd.DataFrame(lr_results_list)\n",
        "\n",
        "# Display results\n",
        "print(\"\\n📊 Model Comparison Across Different Data Versions:\")\n",
        "print(lr_results_df.to_string(index=False))\n"
      ],
      "metadata": {
        "colab": {
          "base_uri": "https://localhost:8080/"
        },
        "id": "fUU6h3NPT7JV",
        "outputId": "f5084f8b-6179-4c73-966f-4e6f40700f53"
      },
      "execution_count": null,
      "outputs": [
        {
          "output_type": "stream",
          "name": "stdout",
          "text": [
            "🚀 Training on: full dataset...\n",
            "📊 Linear Regression (full) Performance:\n",
            "MAE: 45,850.22\n",
            "MAPE: 34.36%\n",
            "RMSE: 61,820.57\n",
            "RMSE / σ Ratio: 0.84\n",
            "R²: 0.2896\n",
            "--------------------------------------------------\n",
            "🚀 Training on: location_simplified dataset...\n",
            "📊 Linear Regression (location_simplified) Performance:\n",
            "MAE: 46,074.83\n",
            "MAPE: 34.80%\n",
            "RMSE: 62,091.29\n",
            "RMSE / σ Ratio: 0.85\n",
            "R²: 0.2833\n",
            "--------------------------------------------------\n",
            "🚀 Training on: jobs_simplified dataset...\n",
            "📊 Linear Regression (jobs_simplified) Performance:\n",
            "MAE: 47,447.38\n",
            "MAPE: 36.12%\n",
            "RMSE: 63,628.40\n",
            "RMSE / σ Ratio: 0.87\n",
            "R²: 0.2474\n",
            "--------------------------------------------------\n",
            "🚀 Training on: fully_simplified dataset...\n",
            "📊 Linear Regression (fully_simplified) Performance:\n",
            "MAE: 47,690.14\n",
            "MAPE: 36.59%\n",
            "RMSE: 63,922.14\n",
            "RMSE / σ Ratio: 0.87\n",
            "R²: 0.2404\n",
            "--------------------------------------------------\n",
            "\n",
            "📊 Model Comparison Across Different Data Versions:\n",
            "                    Model          MAE      MAPE         RMSE  RMSE / σ Ratio       R²\n",
            "               XGB (full) 45238.671875 33.708027 61085.822905        0.832854 0.306354\n",
            "XGB (location_simplified) 45487.503906 34.150302 61408.018760        0.837247 0.299018\n",
            "    XGB (jobs_simplified) 46685.558594 34.986970 62996.413358        0.858903 0.262285\n",
            "   XGB (fully_simplified) 47111.726562 35.771033 63382.497016        0.864167 0.253215\n"
          ]
        }
      ]
    },
    {
      "cell_type": "code",
      "source": [
        "# Dictionary to store results\n",
        "xgb_results_list = []\n",
        "\n",
        "# Train & evaluate Linear Regression on all dataset versions\n",
        "for name, split in splits.items():\n",
        "    print(f\"🚀 Training on: {name} dataset...\")\n",
        "\n",
        "    # Extract train-test sets\n",
        "    X_train, X_test = split[\"X_train\"], split[\"X_test\"]\n",
        "    y_train, y_test = split[\"y_train\"], split[\"y_test\"]\n",
        "\n",
        "    # Train Linear Regression\n",
        "    xgb_model = xgb.XGBRegressor(random_state=42)\n",
        "    xgb_model.fit(X_train, y_train)\n",
        "    y_pred = xgb_model.predict(X_test)\n",
        "\n",
        "    # Evaluate model\n",
        "    result = evaluate_model(f\"XGB ({name})\", y_test, y_pred)\n",
        "    xgb_results_list.append(result)\n",
        "\n",
        "# Convert results into a DataFrame for easy comparison\n",
        "xgb_results_df = pd.DataFrame(xgb_results_list)\n",
        "\n",
        "# Display results\n",
        "print(\"\\n📊 Model Comparison Across Different Data Versions:\")\n",
        "print(xgb_results_df.to_string(index=False))\n"
      ],
      "metadata": {
        "colab": {
          "base_uri": "https://localhost:8080/"
        },
        "id": "FaivgJt0U54Q",
        "outputId": "a187edc3-95e3-4796-d950-c1d24f6f9cd2"
      },
      "execution_count": null,
      "outputs": [
        {
          "output_type": "stream",
          "name": "stdout",
          "text": [
            "🚀 Training on: full dataset...\n",
            "📊 XGB (full) Performance:\n",
            "MAE: 45,238.67\n",
            "MAPE: 33.71%\n",
            "RMSE: 61,085.82\n",
            "RMSE / σ Ratio: 0.83\n",
            "R²: 0.3064\n",
            "--------------------------------------------------\n",
            "🚀 Training on: location_simplified dataset...\n",
            "📊 XGB (location_simplified) Performance:\n",
            "MAE: 45,487.50\n",
            "MAPE: 34.15%\n",
            "RMSE: 61,408.02\n",
            "RMSE / σ Ratio: 0.84\n",
            "R²: 0.2990\n",
            "--------------------------------------------------\n",
            "🚀 Training on: jobs_simplified dataset...\n",
            "📊 XGB (jobs_simplified) Performance:\n",
            "MAE: 46,685.56\n",
            "MAPE: 34.99%\n",
            "RMSE: 62,996.41\n",
            "RMSE / σ Ratio: 0.86\n",
            "R²: 0.2623\n",
            "--------------------------------------------------\n",
            "🚀 Training on: fully_simplified dataset...\n",
            "📊 XGB (fully_simplified) Performance:\n",
            "MAE: 47,111.73\n",
            "MAPE: 35.77%\n",
            "RMSE: 63,382.50\n",
            "RMSE / σ Ratio: 0.86\n",
            "R²: 0.2532\n",
            "--------------------------------------------------\n",
            "\n",
            "📊 Model Comparison Across Different Data Versions:\n",
            "                    Model          MAE      MAPE         RMSE  RMSE / σ Ratio       R²\n",
            "               XGB (full) 45238.671875 33.708027 61085.822905        0.832854 0.306354\n",
            "XGB (location_simplified) 45487.503906 34.150302 61408.018760        0.837247 0.299018\n",
            "    XGB (jobs_simplified) 46685.558594 34.986970 62996.413358        0.858903 0.262285\n",
            "   XGB (fully_simplified) 47111.726562 35.771033 63382.497016        0.864167 0.253215\n"
          ]
        }
      ]
    },
    {
      "cell_type": "code",
      "source": [
        "import matplotlib.pyplot as plt\n",
        "import pandas as pd\n",
        "\n",
        "# Define colors for models\n",
        "model_colors = {\"LR\": \"blue\", \"XGB\": \"red\"}\n",
        "\n",
        "# Map consistent x-axis labels\n",
        "x_axis_labels = [\"full_data\", \"location_simplified\", \"jobs_simplified\", \"fully_simplified\"]\n",
        "\n",
        "# Assign standard x-axis labels to the DataFrame\n",
        "lr_results_df[\"Data Version\"] = x_axis_labels\n",
        "xgb_results_df[\"Data Version\"] = x_axis_labels\n",
        "\n",
        "# Combine results\n",
        "df_results = pd.concat([lr_results_df, xgb_results_df])\n",
        "\n",
        "# Define metrics\n",
        "metrics = [\"MAPE\", \"RMSE\", \"R²\"]\n",
        "y_labels = [\"MAPE (%)\", \"RMSE (K)\", \"R²\"]\n",
        "scaling_factors = [1, 1e-3, 1]  # Convert RMSE to thousands (K)\n",
        "\n",
        "plt.figure(figsize=(14, 5))\n",
        "\n",
        "for i, metric in enumerate(metrics):\n",
        "    plt.subplot(1, 3, i + 1)\n",
        "\n",
        "    for model_type, color in model_colors.items():\n",
        "        subset = df_results[df_results[\"Model\"].str.startswith(model_type)]\n",
        "        plt.plot(x_axis_labels, subset[metric] * scaling_factors[i], marker='o', linestyle='-', color=color, label=model_type)\n",
        "\n",
        "    plt.xlabel(\"Data Version\")\n",
        "    plt.ylabel(y_labels[i])\n",
        "    plt.title(metric)  # Only the metric name\n",
        "    plt.xticks(x_axis_labels, rotation=20)\n",
        "    plt.grid(True)\n",
        "\n",
        "# Add a single legend\n",
        "plt.legend(title=\"Model Type\", loc='upper left', bbox_to_anchor=(1, 1))\n",
        "plt.suptitle(\"Model Performance Across Different Data Versions\")\n",
        "plt.tight_layout()\n",
        "plt.show()\n"
      ],
      "metadata": {
        "colab": {
          "base_uri": "https://localhost:8080/",
          "height": 507
        },
        "id": "AQiyoNPmYn0X",
        "outputId": "3af389b9-11c0-48f6-c0d2-840716a3756c"
      },
      "execution_count": null,
      "outputs": [
        {
          "output_type": "display_data",
          "data": {
            "text/plain": [
              "<Figure size 1400x500 with 3 Axes>"
            ],
            "image/png": "[encoded data removed]"
          },
          "metadata": {}
        }
      ]
    },
    {
      "cell_type": "markdown",
      "source": [
        "Our tests with Linear Regression and XGBoost on different dataset variations clearly indicate that reducing categorical details (job titles, country locations) consistently reduces model performance.\n",
        "\n",
        "🔍 Key Findings:\n",
        "1️⃣ Retaining full categorical details results in the best performance.\n",
        "\n",
        "Highest R² (0.306 with XGBoost, 0.289 with Linear Regression).\n",
        "Lowest RMSE and MAPE, indicating more accurate salary predictions.\n",
        "2️⃣ Simplifying locations (countries → continents) has a small negative impact.\n",
        "\n",
        "Slight increase in RMSE & drop in R².\n",
        "Conclusion: Countries likely hold some salary-related information, but the loss is minor.\n",
        "3️⃣ Simplifying job titles (using clusters) results in a bigger performance drop.\n",
        "\n",
        "Higher RMSE, worse MAPE, and lower R².\n",
        "Conclusion: Job title granularity is highly relevant for salary prediction.\n",
        "4️⃣ Fully simplifying both job titles & locations leads to the worst performance.\n",
        "\n",
        "Likely due to the loss of crucial salary-related variance in the data.\n"
      ],
      "metadata": {
        "id": "6mRRZoGfXESr"
      }
    },
    {
      "cell_type": "markdown",
      "source": [
        "🚀 Conclusion:\n",
        "\n",
        "📌 Reducing categorical details significantly lowers model explainability (R² decreases).\n",
        "\n",
        "📌 The more we generalize job titles and locations, the more salary variations we lose.\n",
        "\n",
        "📌 For the best predictive performance, we should retain as much categorical detail as possible.\n",
        "\n"
      ],
      "metadata": {
        "id": "w1nI5TMwXUbY"
      }
    }
  ]
}