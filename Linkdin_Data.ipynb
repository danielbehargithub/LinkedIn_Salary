{
  "nbformat": 4,
  "nbformat_minor": 0,
  "metadata": {
    "colab": {
      "provenance": [],
      "authorship_tag": "ABX9TyP2xB1wjjUoYk3Igddg4y2b",
      "include_colab_link": true
    },
    "kernelspec": {
      "name": "python3",
      "display_name": "Python 3"
    },
    "language_info": {
      "name": "python"
    }
  },
  "cells": [
    {
      "cell_type": "markdown",
      "metadata": {
        "id": "view-in-github",
        "colab_type": "text"
      },
      "source": [
        "<a href=\"https://colab.research.google.com/github/danielbehargithub/LinkedIn_Salary/blob/main/Linkdin_Data.ipynb\" target=\"_parent\"><img src=\"https://colab.research.google.com/assets/colab-badge.svg\" alt=\"Open In Colab\"/></a>"
      ]
    },
    {
      "cell_type": "markdown",
      "source": [
        "Not relevant for now"
      ],
      "metadata": {
        "id": "FE3WY7FyEsSX"
      }
    },
    {
      "cell_type": "code",
      "execution_count": null,
      "metadata": {
        "colab": {
          "base_uri": "https://localhost:8080/"
        },
        "id": "J-UpkuniWmVp",
        "outputId": "80f4bb8f-b8c3-4b90-f2a2-ee40c58439dc"
      },
      "outputs": [
        {
          "output_type": "stream",
          "name": "stdout",
          "text": [
            " * Serving Flask app '__main__'\n",
            " * Debug mode: off\n"
          ]
        },
        {
          "output_type": "stream",
          "name": "stderr",
          "text": [
            "INFO:werkzeug:\u001b[31m\u001b[1mWARNING: This is a development server. Do not use it in a production deployment. Use a production WSGI server instead.\u001b[0m\n",
            " * Running on http://127.0.0.1:5000\n",
            "INFO:werkzeug:\u001b[33mPress CTRL+C to quit\u001b[0m\n"
          ]
        }
      ],
      "source": [
        "from flask import Flask, request, redirect\n",
        "import requests\n",
        "\n",
        "app = Flask(__name__)\n",
        "\n",
        "# App credentials\n",
        "CLIENT_ID = \"your_client_id\"\n",
        "CLIENT_SECRET = \"your_client_secret\"\n",
        "REDIRECT_URI = \"http://localhost:5000/callback\"\n",
        "\n",
        "# Route to start LinkedIn login\n",
        "@app.route(\"/\")\n",
        "def home():\n",
        "    return f'''\n",
        "    <a href=\"https://www.linkedin.com/oauth/v2/authorization?response_type=code&client_id={CLIENT_ID}&redirect_uri={REDIRECT_URI}&scope=r_liteprofile%20r_emailaddress\">\n",
        "        Login with LinkedIn\n",
        "    </a>\n",
        "    '''\n",
        "\n",
        "# Callback to handle LinkedIn response\n",
        "@app.route(\"/callback\")\n",
        "def callback():\n",
        "    code = request.args.get(\"code\")\n",
        "    token_url = \"https://www.linkedin.com/oauth/v2/accessToken\"\n",
        "    data = {\n",
        "        \"grant_type\": \"authorization_code\",\n",
        "        \"code\": code,\n",
        "        \"redirect_uri\": REDIRECT_URI,\n",
        "        \"client_id\": CLIENT_ID,\n",
        "        \"client_secret\": CLIENT_SECRET\n",
        "    }\n",
        "    response = requests.post(token_url, data=data)\n",
        "    access_token = response.json().get(\"access_token\")\n",
        "\n",
        "    # Fetch user profile\n",
        "    headers = {\"Authorization\": f\"Bearer {access_token}\"}\n",
        "    profile_response = requests.get(\"https://api.linkedin.com/v2/me\", headers=headers)\n",
        "    return profile_response.json()\n",
        "\n",
        "if __name__ == \"__main__\":\n",
        "    app.run(port=5000)\n"
      ]
    },
    {
      "cell_type": "markdown",
      "source": [
        "**Job data scrape**"
      ],
      "metadata": {
        "id": "ub1_1ra_EwuG"
      }
    },
    {
      "cell_type": "code",
      "source": [
        "!pip install playwright\n",
        "!playwright install\n"
      ],
      "metadata": {
        "id": "qFhhv-L2aLfj"
      },
      "execution_count": null,
      "outputs": []
    },
    {
      "cell_type": "code",
      "source": [
        "from playwright.async_api import async_playwright\n",
        "import asyncio\n",
        "\n",
        "async def scrape_job_posting(job_url):\n",
        "    async with async_playwright() as p:\n",
        "        browser = await p.chromium.launch(headless=True)\n",
        "        context = await browser.new_context(user_agent=\"Mozilla/5.0\")\n",
        "        page = await context.new_page()\n",
        "\n",
        "        await page.goto(job_url)\n",
        "        await asyncio.sleep(5)  # Wait for 5 seconds\n",
        "\n",
        "        # Saving the page's HTML content for debugging purposes\n",
        "        html = await page.content()\n",
        "        with open(\"page_debug.html\", \"w\", encoding=\"utf-8\") as f:\n",
        "            f.write(html)\n",
        "        print(\"Saved page content to page_debug.html\")\n",
        "\n",
        "        # Taking a screenshot of the page for verification\n",
        "        await page.screenshot(path=\"screenshot.png\", full_page=True)\n",
        "        print(\"Screenshot saved as screenshot.png\")\n",
        "\n",
        "\n",
        "        # Extract job title\n",
        "        job_title = await page.inner_text('h1.top-card-layout__title')  # Adjust selector\n",
        "        company = await page.inner_text('a.topcard__org-name-link')  # Adjust selector\n",
        "        location = await page.inner_text('span.topcard__flavor--bullet')  # Adjust selector\n",
        "        description = await page.inner_text('div.show-more-less-html__markup')  # Adjust selector\n",
        "\n",
        "        print(f\"Job Title: {job_title}\")\n",
        "        print(f\"Company: {company}\")\n",
        "        print(f\"Location: {location}\")\n",
        "        print(f\"Description: {description}\")\n",
        "\n",
        "        await browser.close()\n",
        "\n",
        "job_url = \"https://www.linkedin.com/jobs/view/4114601385/\"\n",
        "await scrape_job_posting(job_url)\n"
      ],
      "metadata": {
        "colab": {
          "base_uri": "https://localhost:8080/"
        },
        "id": "vk6t7P-haBED",
        "outputId": "bc85dfc6-d3bb-450f-c6c8-c022ceae6f5d"
      },
      "execution_count": null,
      "outputs": [
        {
          "output_type": "stream",
          "name": "stdout",
          "text": [
            "Saved page content to page_debug.html\n",
            "Screenshot saved as screenshot.png\n",
            "Job Title: Computer Vision Algorithm Engineer\n",
            "Company: Camtek \n",
            "Location:  Migdal HaEmek, North District, Israel\n",
            "Description: Camtek designs, develops, manufactures and markets technologically advanced, cost-effective systems and related software products that are used to enhance processes and yields serving the Advanced Packaging, Memory, CMOS Image Sensors, MEMS, RF, and other segments in the Semiconductors industry.\n",
            "\n",
            "\n",
            "\n",
            "\n",
            "Camtek invites you to work in a global, cutting-edge technology environment and be part of a market leader - join us and nurture your career.\n",
            "\n",
            "\n",
            "\n",
            "\n",
            "Job description\n",
            "\n",
            "Our Algorithm group is looking for a talented, motivated and ambitious Computer Vision Algorithm Engineer, to join us.\n",
            "\n",
            "You will be working in an environment that offers endless learning and growth opportunities.\n",
            "\n",
            "\n",
            "\n",
            "\n",
            "Responsibilities:\n",
            "\n",
            "The position requires study and understanding of Camtek's existing algorithms, with the ability to maintain and improve capabilities, as well as develop and implement new ones, in a complex multidisciplinary environment.\n",
            "\n",
            "\n",
            "\n",
            "\n",
            "Qualifications\n",
            "\n",
            "BSc. in Computer Science / Mathematics / Physics / Electrical engineering or equivalent\n",
            "\n",
            "Experience in Computer Vision and Image Processing algorithms – advantage\n",
            "\n",
            "Experience in developing machine learning and Deep learning algorithms – advantage\n",
            "\n",
            "Experience in C++ programming - must\n",
            "\n",
            "Knowledge in Statistics - advantage\n",
            "\n",
            "Data analysis capabilities.\n",
            "\n",
            "2-3 years of experience in writing algorithms in the MATLAB / Python environment\n",
            "\n",
            "Self-learning academic background – advantage\n",
            "\n",
            "Excellent communication skills (Hebrew and English)\n",
            "\n",
            "Good team member\n"
          ]
        }
      ]
    },
    {
      "cell_type": "markdown",
      "source": [
        "Start of profile scrape"
      ],
      "metadata": {
        "id": "pVU6b6prE4Rm"
      }
    },
    {
      "cell_type": "code",
      "source": [
        "from playwright.async_api import async_playwright\n",
        "\n",
        "async def scrape_profile(profile_url):\n",
        "    async with async_playwright() as p:\n",
        "        browser = await p.chromium.launch(headless=True)\n",
        "        page = await browser.new_page()\n",
        "        await page.goto(profile_url)2\n",
        "        await asyncio.sleep(5)  # Wait for 5 seconds\n",
        "\n",
        "        # Saving the page's HTML content for debugging purposes\n",
        "        html = await page.content()\n",
        "        with open(\"page_debug.html\", \"w\", encoding=\"utf-8\") as f:\n",
        "            f.write(html)\n",
        "        print(\"Saved page content to page_debug.html\")\n",
        "\n",
        "        # Taking a screenshot of the page for verification\n",
        "        await page.screenshot(path=\"screenshot.png\", full_page=True)\n",
        "        print(\"Screenshot saved as screenshot.png\")\n",
        "\n",
        "        name = await page.inner_text('css-selector-for-name')\n",
        "        title = await page.inner_text('css-selector-for-title')\n",
        "        await browser.close()\n",
        "        return {\"name\": name, \"title\": title}\n",
        "\n",
        "profile_url = \"https://www.linkedin.com/in/daniel-behar-168647280/\"\n",
        "profile_data = await scrape_profile(profile_url)\n",
        "print(profile_data)\n"
      ],
      "metadata": {
        "colab": {
          "base_uri": "https://localhost:8080/",
          "height": 430
        },
        "id": "gUQ6MpqLe-Qs",
        "outputId": "298e52bb-66c6-4813-b68a-039718515202"
      },
      "execution_count": null,
      "outputs": [
        {
          "output_type": "stream",
          "name": "stdout",
          "text": [
            "Saved page content to page_debug.html\n",
            "Screenshot saved as screenshot.png\n"
          ]
        },
        {
          "output_type": "error",
          "ename": "TimeoutError",
          "evalue": "Page.inner_text: Timeout 30000ms exceeded.\nCall log:\n  - waiting for locator(\"css-selector-for-name\")\n",
          "traceback": [
            "\u001b[0;31m---------------------------------------------------------------------------\u001b[0m",
            "\u001b[0;31mTimeoutError\u001b[0m                              Traceback (most recent call last)",
            "\u001b[0;32m<ipython-input-14-ef2d6972f117>\u001b[0m in \u001b[0;36m<cell line: 26>\u001b[0;34m()\u001b[0m\n\u001b[1;32m     24\u001b[0m \u001b[0;34m\u001b[0m\u001b[0m\n\u001b[1;32m     25\u001b[0m \u001b[0mprofile_url\u001b[0m \u001b[0;34m=\u001b[0m \u001b[0;34m\"https://www.linkedin.com/in/daniel-behar-168647280/\"\u001b[0m\u001b[0;34m\u001b[0m\u001b[0;34m\u001b[0m\u001b[0m\n\u001b[0;32m---> 26\u001b[0;31m \u001b[0mprofile_data\u001b[0m \u001b[0;34m=\u001b[0m \u001b[0;32mawait\u001b[0m \u001b[0mscrape_profile\u001b[0m\u001b[0;34m(\u001b[0m\u001b[0mprofile_url\u001b[0m\u001b[0;34m)\u001b[0m\u001b[0;34m\u001b[0m\u001b[0;34m\u001b[0m\u001b[0m\n\u001b[0m\u001b[1;32m     27\u001b[0m \u001b[0mprint\u001b[0m\u001b[0;34m(\u001b[0m\u001b[0mprofile_data\u001b[0m\u001b[0;34m)\u001b[0m\u001b[0;34m\u001b[0m\u001b[0;34m\u001b[0m\u001b[0m\n",
            "\u001b[0;32m<ipython-input-14-ef2d6972f117>\u001b[0m in \u001b[0;36mscrape_profile\u001b[0;34m(profile_url)\u001b[0m\n\u001b[1;32m     18\u001b[0m         \u001b[0mprint\u001b[0m\u001b[0;34m(\u001b[0m\u001b[0;34m\"Screenshot saved as screenshot.png\"\u001b[0m\u001b[0;34m)\u001b[0m\u001b[0;34m\u001b[0m\u001b[0;34m\u001b[0m\u001b[0m\n\u001b[1;32m     19\u001b[0m \u001b[0;34m\u001b[0m\u001b[0m\n\u001b[0;32m---> 20\u001b[0;31m         \u001b[0mname\u001b[0m \u001b[0;34m=\u001b[0m \u001b[0;32mawait\u001b[0m \u001b[0mpage\u001b[0m\u001b[0;34m.\u001b[0m\u001b[0minner_text\u001b[0m\u001b[0;34m(\u001b[0m\u001b[0;34m'css-selector-for-name'\u001b[0m\u001b[0;34m)\u001b[0m\u001b[0;34m\u001b[0m\u001b[0;34m\u001b[0m\u001b[0m\n\u001b[0m\u001b[1;32m     21\u001b[0m         \u001b[0mtitle\u001b[0m \u001b[0;34m=\u001b[0m \u001b[0;32mawait\u001b[0m \u001b[0mpage\u001b[0m\u001b[0;34m.\u001b[0m\u001b[0minner_text\u001b[0m\u001b[0;34m(\u001b[0m\u001b[0;34m'css-selector-for-title'\u001b[0m\u001b[0;34m)\u001b[0m\u001b[0;34m\u001b[0m\u001b[0;34m\u001b[0m\u001b[0m\n\u001b[1;32m     22\u001b[0m         \u001b[0;32mawait\u001b[0m \u001b[0mbrowser\u001b[0m\u001b[0;34m.\u001b[0m\u001b[0mclose\u001b[0m\u001b[0;34m(\u001b[0m\u001b[0;34m)\u001b[0m\u001b[0;34m\u001b[0m\u001b[0;34m\u001b[0m\u001b[0m\n",
            "\u001b[0;32m/usr/local/lib/python3.10/dist-packages/playwright/async_api/_generated.py\u001b[0m in \u001b[0;36minner_text\u001b[0;34m(self, selector, strict, timeout)\u001b[0m\n\u001b[1;32m  10713\u001b[0m \u001b[0;34m\u001b[0m\u001b[0m\n\u001b[1;32m  10714\u001b[0m         return mapping.from_maybe_impl(\n\u001b[0;32m> 10715\u001b[0;31m             await self._impl_obj.inner_text(\n\u001b[0m\u001b[1;32m  10716\u001b[0m                 \u001b[0mselector\u001b[0m\u001b[0;34m=\u001b[0m\u001b[0mselector\u001b[0m\u001b[0;34m,\u001b[0m \u001b[0mstrict\u001b[0m\u001b[0;34m=\u001b[0m\u001b[0mstrict\u001b[0m\u001b[0;34m,\u001b[0m \u001b[0mtimeout\u001b[0m\u001b[0;34m=\u001b[0m\u001b[0mtimeout\u001b[0m\u001b[0;34m\u001b[0m\u001b[0;34m\u001b[0m\u001b[0m\n\u001b[1;32m  10717\u001b[0m             )\n",
            "\u001b[0;32m/usr/local/lib/python3.10/dist-packages/playwright/_impl/_page.py\u001b[0m in \u001b[0;36minner_text\u001b[0;34m(self, selector, strict, timeout)\u001b[0m\n\u001b[1;32m    952\u001b[0m         \u001b[0mself\u001b[0m\u001b[0;34m,\u001b[0m \u001b[0mselector\u001b[0m\u001b[0;34m:\u001b[0m \u001b[0mstr\u001b[0m\u001b[0;34m,\u001b[0m \u001b[0mstrict\u001b[0m\u001b[0;34m:\u001b[0m \u001b[0mbool\u001b[0m \u001b[0;34m=\u001b[0m \u001b[0;32mNone\u001b[0m\u001b[0;34m,\u001b[0m \u001b[0mtimeout\u001b[0m\u001b[0;34m:\u001b[0m \u001b[0mfloat\u001b[0m \u001b[0;34m=\u001b[0m \u001b[0;32mNone\u001b[0m\u001b[0;34m\u001b[0m\u001b[0;34m\u001b[0m\u001b[0m\n\u001b[1;32m    953\u001b[0m     ) -> str:\n\u001b[0;32m--> 954\u001b[0;31m         \u001b[0;32mreturn\u001b[0m \u001b[0;32mawait\u001b[0m \u001b[0mself\u001b[0m\u001b[0;34m.\u001b[0m\u001b[0m_main_frame\u001b[0m\u001b[0;34m.\u001b[0m\u001b[0minner_text\u001b[0m\u001b[0;34m(\u001b[0m\u001b[0;34m**\u001b[0m\u001b[0mlocals_to_params\u001b[0m\u001b[0;34m(\u001b[0m\u001b[0mlocals\u001b[0m\u001b[0;34m(\u001b[0m\u001b[0;34m)\u001b[0m\u001b[0;34m)\u001b[0m\u001b[0;34m)\u001b[0m\u001b[0;34m\u001b[0m\u001b[0;34m\u001b[0m\u001b[0m\n\u001b[0m\u001b[1;32m    955\u001b[0m \u001b[0;34m\u001b[0m\u001b[0m\n\u001b[1;32m    956\u001b[0m     async def inner_html(\n",
            "\u001b[0;32m/usr/local/lib/python3.10/dist-packages/playwright/_impl/_frame.py\u001b[0m in \u001b[0;36minner_text\u001b[0;34m(self, selector, strict, timeout)\u001b[0m\n\u001b[1;32m    616\u001b[0m         \u001b[0mself\u001b[0m\u001b[0;34m,\u001b[0m \u001b[0mselector\u001b[0m\u001b[0;34m:\u001b[0m \u001b[0mstr\u001b[0m\u001b[0;34m,\u001b[0m \u001b[0mstrict\u001b[0m\u001b[0;34m:\u001b[0m \u001b[0mbool\u001b[0m \u001b[0;34m=\u001b[0m \u001b[0;32mNone\u001b[0m\u001b[0;34m,\u001b[0m \u001b[0mtimeout\u001b[0m\u001b[0;34m:\u001b[0m \u001b[0mfloat\u001b[0m \u001b[0;34m=\u001b[0m \u001b[0;32mNone\u001b[0m\u001b[0;34m\u001b[0m\u001b[0;34m\u001b[0m\u001b[0m\n\u001b[1;32m    617\u001b[0m     ) -> str:\n\u001b[0;32m--> 618\u001b[0;31m         \u001b[0;32mreturn\u001b[0m \u001b[0;32mawait\u001b[0m \u001b[0mself\u001b[0m\u001b[0;34m.\u001b[0m\u001b[0m_channel\u001b[0m\u001b[0;34m.\u001b[0m\u001b[0msend\u001b[0m\u001b[0;34m(\u001b[0m\u001b[0;34m\"innerText\"\u001b[0m\u001b[0;34m,\u001b[0m \u001b[0mlocals_to_params\u001b[0m\u001b[0;34m(\u001b[0m\u001b[0mlocals\u001b[0m\u001b[0;34m(\u001b[0m\u001b[0;34m)\u001b[0m\u001b[0;34m)\u001b[0m\u001b[0;34m)\u001b[0m\u001b[0;34m\u001b[0m\u001b[0;34m\u001b[0m\u001b[0m\n\u001b[0m\u001b[1;32m    619\u001b[0m \u001b[0;34m\u001b[0m\u001b[0m\n\u001b[1;32m    620\u001b[0m     async def inner_html(\n",
            "\u001b[0;32m/usr/local/lib/python3.10/dist-packages/playwright/_impl/_connection.py\u001b[0m in \u001b[0;36msend\u001b[0;34m(self, method, params)\u001b[0m\n\u001b[1;32m     59\u001b[0m \u001b[0;34m\u001b[0m\u001b[0m\n\u001b[1;32m     60\u001b[0m     \u001b[0;32masync\u001b[0m \u001b[0;32mdef\u001b[0m \u001b[0msend\u001b[0m\u001b[0;34m(\u001b[0m\u001b[0mself\u001b[0m\u001b[0;34m,\u001b[0m \u001b[0mmethod\u001b[0m\u001b[0;34m:\u001b[0m \u001b[0mstr\u001b[0m\u001b[0;34m,\u001b[0m \u001b[0mparams\u001b[0m\u001b[0;34m:\u001b[0m \u001b[0mDict\u001b[0m \u001b[0;34m=\u001b[0m \u001b[0;32mNone\u001b[0m\u001b[0;34m)\u001b[0m \u001b[0;34m->\u001b[0m \u001b[0mAny\u001b[0m\u001b[0;34m:\u001b[0m\u001b[0;34m\u001b[0m\u001b[0;34m\u001b[0m\u001b[0m\n\u001b[0;32m---> 61\u001b[0;31m         return await self._connection.wrap_api_call(\n\u001b[0m\u001b[1;32m     62\u001b[0m             \u001b[0;32mlambda\u001b[0m\u001b[0;34m:\u001b[0m \u001b[0mself\u001b[0m\u001b[0;34m.\u001b[0m\u001b[0m_inner_send\u001b[0m\u001b[0;34m(\u001b[0m\u001b[0mmethod\u001b[0m\u001b[0;34m,\u001b[0m \u001b[0mparams\u001b[0m\u001b[0;34m,\u001b[0m \u001b[0;32mFalse\u001b[0m\u001b[0;34m)\u001b[0m\u001b[0;34m,\u001b[0m\u001b[0;34m\u001b[0m\u001b[0;34m\u001b[0m\u001b[0m\n\u001b[1;32m     63\u001b[0m             \u001b[0mself\u001b[0m\u001b[0;34m.\u001b[0m\u001b[0m_is_internal_type\u001b[0m\u001b[0;34m,\u001b[0m\u001b[0;34m\u001b[0m\u001b[0;34m\u001b[0m\u001b[0m\n",
            "\u001b[0;32m/usr/local/lib/python3.10/dist-packages/playwright/_impl/_connection.py\u001b[0m in \u001b[0;36mwrap_api_call\u001b[0;34m(self, cb, is_internal)\u001b[0m\n\u001b[1;32m    526\u001b[0m             \u001b[0;32mreturn\u001b[0m \u001b[0;32mawait\u001b[0m \u001b[0mcb\u001b[0m\u001b[0;34m(\u001b[0m\u001b[0;34m)\u001b[0m\u001b[0;34m\u001b[0m\u001b[0;34m\u001b[0m\u001b[0m\n\u001b[1;32m    527\u001b[0m         \u001b[0;32mexcept\u001b[0m \u001b[0mException\u001b[0m \u001b[0;32mas\u001b[0m \u001b[0merror\u001b[0m\u001b[0;34m:\u001b[0m\u001b[0;34m\u001b[0m\u001b[0;34m\u001b[0m\u001b[0m\n\u001b[0;32m--> 528\u001b[0;31m             \u001b[0;32mraise\u001b[0m \u001b[0mrewrite_error\u001b[0m\u001b[0;34m(\u001b[0m\u001b[0merror\u001b[0m\u001b[0;34m,\u001b[0m \u001b[0;34mf\"{parsed_st['apiName']}: {error}\"\u001b[0m\u001b[0;34m)\u001b[0m \u001b[0;32mfrom\u001b[0m \u001b[0;32mNone\u001b[0m\u001b[0;34m\u001b[0m\u001b[0;34m\u001b[0m\u001b[0m\n\u001b[0m\u001b[1;32m    529\u001b[0m         \u001b[0;32mfinally\u001b[0m\u001b[0;34m:\u001b[0m\u001b[0;34m\u001b[0m\u001b[0;34m\u001b[0m\u001b[0m\n\u001b[1;32m    530\u001b[0m             \u001b[0mself\u001b[0m\u001b[0;34m.\u001b[0m\u001b[0m_api_zone\u001b[0m\u001b[0;34m.\u001b[0m\u001b[0mset\u001b[0m\u001b[0;34m(\u001b[0m\u001b[0;32mNone\u001b[0m\u001b[0;34m)\u001b[0m\u001b[0;34m\u001b[0m\u001b[0;34m\u001b[0m\u001b[0m\n",
            "\u001b[0;31mTimeoutError\u001b[0m: Page.inner_text: Timeout 30000ms exceeded.\nCall log:\n  - waiting for locator(\"css-selector-for-name\")\n"
          ]
        }
      ]
    }
  ]
}