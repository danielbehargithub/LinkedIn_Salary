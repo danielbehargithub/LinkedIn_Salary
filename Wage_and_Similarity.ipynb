{
  "nbformat": 4,
  "nbformat_minor": 0,
  "metadata": {
    "colab": {
      "provenance": [],
      "authorship_tag": "ABX9TyMImDe/D9ltlAA1PM6nQxYC",
      "include_colab_link": true
    },
    "kernelspec": {
      "name": "python3",
      "display_name": "Python 3"
    },
    "language_info": {
      "name": "python"
    }
  },
  "cells": [
    {
      "cell_type": "markdown",
      "metadata": {
        "id": "view-in-github",
        "colab_type": "text"
      },
      "source": [
        "<a href=\"https://colab.research.google.com/github/danielbehargithub/LinkedIn_Salary/blob/main/Wage_and_Similarity.ipynb\" target=\"_parent\"><img src=\"https://colab.research.google.com/assets/colab-badge.svg\" alt=\"Open In Colab\"/></a>"
      ]
    },
    {
      "cell_type": "code",
      "source": [
        "!pip install pycountry"
      ],
      "metadata": {
        "colab": {
          "base_uri": "https://localhost:8080/"
        },
        "id": "GEQpEluGvQxO",
        "outputId": "92c1d780-9d43-4df9-ede7-49fcd44ae9f1"
      },
      "execution_count": 2,
      "outputs": [
        {
          "output_type": "stream",
          "name": "stdout",
          "text": [
            "Collecting pycountry\n",
            "  Downloading pycountry-24.6.1-py3-none-any.whl.metadata (12 kB)\n",
            "Downloading pycountry-24.6.1-py3-none-any.whl (6.3 MB)\n",
            "\u001b[2K   \u001b[90m━━━━━━━━━━━━━━━━━━━━━━━━━━━━━━━━━━━━━━━━\u001b[0m \u001b[32m6.3/6.3 MB\u001b[0m \u001b[31m47.4 MB/s\u001b[0m eta \u001b[36m0:00:00\u001b[0m\n",
            "\u001b[?25hInstalling collected packages: pycountry\n",
            "Successfully installed pycountry-24.6.1\n"
          ]
        }
      ]
    },
    {
      "cell_type": "code",
      "source": [
        "def categorize_experience(profile_text):\n",
        "    \"\"\"\n",
        "    פונקציה שממפה קטגוריית ניסיון (EN, MI, SE, EX) על סמך שנות ניסיון מתוכן הטקסט.\n",
        "    :param profile_text: טקסט פרופיל משתמש (string)\n",
        "    :return: קטגוריית ניסיון (string)\n",
        "    \"\"\"\n",
        "    import re\n",
        "\n",
        "    # חיפוש שנות ניסיון בטקסט (למשל: '2 yrs', '10 years', '1 yr')\n",
        "    experience_matches = re.findall(r\"(\\d+)\\s*(?:yrs?|years?)\", profile_text)\n",
        "\n",
        "    # המרה למספרים של שנות ניסיון\n",
        "    years_of_experience = sum(map(int, experience_matches))\n",
        "\n",
        "    # קטגוריות ניסיון לפי מספר שנים\n",
        "    if years_of_experience < 2:\n",
        "        return 'EN'  # Entry Level\n",
        "    elif 2 <= years_of_experience < 5:\n",
        "        return 'MI'  # Mid Level\n",
        "    elif 5 <= years_of_experience < 10:\n",
        "        return 'SE'  # Senior Level\n",
        "    else:\n",
        "        return 'EX'  # Executive Level\n",
        "\n",
        "\n",
        "# קריאה לדוגמה עם טקסט מהפרופיל שסיפקת\n",
        "profile_text = \"\"\"\n",
        "Company       : Next Career\n",
        "Duration      : 2 yrs 1 mo\n",
        "--------------------------------------------------\n",
        "  Job Title    : Career Coach\n",
        "  Job Duration : 2024 - Present · 1 yr 1 mo\n",
        "  --------------------------------------------------\n",
        "  Job Title    : Owner\n",
        "  Job Duration : 2023 - Present · 2 yrs 1 mo\n",
        "  --------------------------------------------------\n",
        "  Job Title     : Global Sourcing Manager\n",
        "  Job Duration  : 2021 - 2023 · 2 yrs\n",
        "  --------------------------------------------------\n",
        "  Job Title     : Director Talent Acquisition\n",
        "  Job Duration  : 2019 - 2021 · 2 yrs\n",
        "  --------------------------------------------------\n",
        "\"\"\"\n",
        "\n",
        "# הפעלת הפונקציה\n",
        "experience_category = categorize_experience(profile_text)\n",
        "print(f\"Experience Category: {experience_category}\")\n"
      ],
      "metadata": {
        "colab": {
          "base_uri": "https://localhost:8080/"
        },
        "id": "kT0gySGYvMRr",
        "outputId": "40df3298-f174-45d5-cb0e-8d41e3f42e72"
      },
      "execution_count": 3,
      "outputs": [
        {
          "output_type": "stream",
          "name": "stdout",
          "text": [
            "Experience Category: SE\n"
          ]
        }
      ]
    },
    {
      "cell_type": "code",
      "source": [
        "import pycountry\n",
        "import re\n",
        "\n",
        "def extract_job_details_with_iso(job_text):\n",
        "    \"\"\"\n",
        "    חלץ פרטי משרה מתוך טקסט נתון והמר מיקום החברה ל-ISO 3166 Country Code באמצעות pycountry\n",
        "    :param job_text: טקסט עם פרטי משרה\n",
        "    :return: מילון עם פרטי המשרה, כולל ISO Country Code\n",
        "    \"\"\"\n",
        "\n",
        "    # חילוץ כותרת המשרה\n",
        "    job_title = re.search(r\"Job Title\\s*:\\s*(.+)\", job_text)\n",
        "    job_title = job_title.group(1).strip() if job_title else \"N/A\"\n",
        "\n",
        "    # חילוץ שם החברה\n",
        "    company_name = re.search(r\"Company\\s*:\\s*(.+)\", job_text)\n",
        "    company_name = company_name.group(1).strip() if company_name else \"N/A\"\n",
        "\n",
        "    # חילוץ מיקום החברה\n",
        "    company_location = re.search(r\"Location\\s*:\\s*(.+)\", job_text)\n",
        "    company_location = company_location.group(1).strip() if company_location else \"N/A\"\n",
        "\n",
        "    # המרת מיקום החברה ל-ISO 3166 Country Code\n",
        "    country_code = \"N/A\"\n",
        "    for country in pycountry.countries:\n",
        "        if country.name in company_location:\n",
        "            country_code = country.alpha_2\n",
        "            break\n",
        "\n",
        "    # עבודה מהבית: הגדרה לפי תנאים\n",
        "    if \"Remote\" in job_text:\n",
        "        remote_ratio = 100\n",
        "    elif \"Hybrid\" in job_text:\n",
        "        remote_ratio = 50\n",
        "    elif \"On-site\" in job_text:\n",
        "        remote_ratio = 0\n",
        "    else:\n",
        "        remote_ratio = \"N/A\"\n",
        "\n",
        "    # הרכבת התוצאה\n",
        "    return {\n",
        "        \"job_title\": job_title,\n",
        "        \"company_name\": company_name,\n",
        "        \"company_location\": company_location,\n",
        "        \"iso_country_code\": country_code,\n",
        "        \"remote_ratio\": remote_ratio,\n",
        "        \"company_size\": \"N/A\"  # יכול להיות מוגדר על פי מידע נוסף\n",
        "    }\n",
        "\n",
        "\n",
        "# קריאה לדוגמה עם הטקסט שסיפקת\n",
        "job_text = \"\"\"\n",
        "Job Title    : Computer Vision Algorithm Engineer\n",
        "Company      : Camtek\n",
        "Location     :  Migdal HaEmek, North District, Israel\n",
        "Description  : Camtek designs, develops, manufactures and markets technologically advanced, cost-effective systems and related software products that are used to enhance processes and yields serving the Advanced Packaging, Memory, CMOS Image Sensors, MEMS, RF, and other segments in the Semiconductors industry.\n",
        "\"\"\"\n",
        "\n",
        "# הפעלת הפונקציה\n",
        "job_details = extract_job_details_with_iso(job_text)\n",
        "\n",
        "# הצגת התוצאה\n",
        "print(job_details)\n"
      ],
      "metadata": {
        "colab": {
          "base_uri": "https://localhost:8080/"
        },
        "id": "89VqXet_vOf8",
        "outputId": "cb31c3bb-cc48-419f-ef14-7a79ad631d8f"
      },
      "execution_count": 4,
      "outputs": [
        {
          "output_type": "stream",
          "name": "stdout",
          "text": [
            "{'job_title': 'Computer Vision Algorithm Engineer', 'company_name': 'Camtek', 'company_location': 'Migdal HaEmek, North District, Israel', 'iso_country_code': 'IL', 'remote_ratio': 'N/A', 'company_size': 'N/A'}\n"
          ]
        }
      ]
    },
    {
      "cell_type": "code",
      "source": [
        "import lightgbm as lgb\n",
        "model = lgb.Booster(model_file='lightgbm_model.txt')\n",
        "import pandas as pd"
      ],
      "metadata": {
        "colab": {
          "base_uri": "https://localhost:8080/"
        },
        "id": "E7TOhsTNvY60",
        "outputId": "4b71aa96-062c-49ad-eff1-d1b4262940a9"
      },
      "execution_count": 5,
      "outputs": [
        {
          "output_type": "stream",
          "name": "stderr",
          "text": [
            "/usr/local/lib/python3.11/dist-packages/dask/dataframe/__init__.py:42: FutureWarning: \n",
            "Dask dataframe query planning is disabled because dask-expr is not installed.\n",
            "\n",
            "You can install it with `pip install dask[dataframe]` or `conda install dask`.\n",
            "This will raise in a future version.\n",
            "\n",
            "  warnings.warn(msg, FutureWarning)\n"
          ]
        }
      ]
    },
    {
      "cell_type": "code",
      "source": [
        "new_user = pd.DataFrame({\n",
        "    'experience_level': [experience_category],         # Senior level\n",
        "    'company_location': [job_details[\"iso_country_code\"]],         # Company located in the US\n",
        "    'job_title': [job_details[\"job_title\"]],    # Job title\n",
        "})\n",
        "\n",
        "\n",
        "\n",
        "# עמודות קטגוריאליות\n",
        "categorical_columns = [\n",
        "    'experience_level', 'employment_type', 'employee_residence',\n",
        "    'company_location', 'company_size', 'job_title', 'remote_ratio'\n",
        "]\n",
        "\n",
        "# המרת עמודות לקטגוריה\n",
        "for col in categorical_columns:\n",
        "    if col in new_user.columns:\n",
        "        new_user[col] = new_user[col].astype('category')\n",
        "\n",
        "# ווידוא עמודות רלוונטיות לפי X_train\n",
        "for col in categorical_columns:\n",
        "    if col not in new_user.columns:\n",
        "        # הוספת עמודה קטגוריאלית עם ערך ברירת מחדל 'Unknown'\n",
        "        new_user[col] = \"Unknown\"\n",
        "        new_user[col] = new_user[col].astype('category')\n",
        "\n",
        "# חיזוי שכר\n",
        "predicted_salary = model.predict(new_user)[0]\n"
      ],
      "metadata": {
        "colab": {
          "base_uri": "https://localhost:8080/"
        },
        "id": "wfoqA3kWvWwE",
        "outputId": "44c02190-dfb1-46b6-e57e-3d0c505f78a0"
      },
      "execution_count": 14,
      "outputs": [
        {
          "output_type": "stream",
          "name": "stdout",
          "text": [
            "Predicted Salary for the new user: $81,885.71\n"
          ]
        }
      ]
    },
    {
      "cell_type": "code",
      "source": [
        "def calculate_salary_range_dynamic(predicted_salary, match_percentage, base_lower_pct=0.9, base_upper_pct=1.0, step_pct=0.05):\n",
        "    \"\"\"\n",
        "    חישוב טווח שכר דינמי המבוסס על רמות שונות של אחוז התאמה, עם ערכים נגזרים באחוזים מהשכר החזוי\n",
        "    :param predicted_salary: שכר חזוי\n",
        "    :param match_percentage: אחוז התאמה למשרה\n",
        "    :param base_lower_pct: אחוז לתחתית הטווח הבסיסי (ברירת מחדל: 90% מהשכר החזוי)\n",
        "    :param base_upper_pct: אחוז לחלק העליון של הטווח הבסיסי (ברירת מחדל: 100% מהשכר החזוי)\n",
        "    :param step_pct: אחוז קפיצה לכל רמת התאמה (ברירת מחדל: 5%)\n",
        "    :return: גבול תחתון ועליון לטווח השכר\n",
        "    \"\"\"\n",
        "    # חישוב טווח בסיסי\n",
        "    base_lower = predicted_salary * base_lower_pct\n",
        "    base_upper = predicted_salary * base_upper_pct\n",
        "\n",
        "    # חישוב גודל הקפיצה באחוזים\n",
        "    step_size = predicted_salary * step_pct\n",
        "\n",
        "    # קביעת מספר הצעדים מאחוז התאמה בסיסי (50%)\n",
        "    steps = (match_percentage - 50) // 10  # כל 10% מייצגים צעד אחד\n",
        "\n",
        "    # חישוב הטווח החדש\n",
        "    lower_bound = base_lower + steps * step_size\n",
        "    upper_bound = base_upper + steps * step_size\n",
        "\n",
        "    return lower_bound, upper_bound\n",
        "\n",
        "\n",
        "# דוגמה לשימוש\n",
        "match_percentage = 65       # אחוז התאמה לדוגמה\n",
        "\n",
        "# חישוב טווח השכר\n",
        "lower_salary, upper_salary = calculate_salary_range_dynamic(predicted_salary, match_percentage)\n",
        "\n",
        "# הצגת התוצאה\n",
        "print(f\"Predicted Salary: ${predicted_salary:,.2f}\")\n",
        "print(f\"Salary Range (Match Percentage = {match_percentage}%): ${lower_salary:,.2f} - ${upper_salary:,.2f}\")\n"
      ],
      "metadata": {
        "colab": {
          "base_uri": "https://localhost:8080/"
        },
        "id": "uf-VzlV80JvW",
        "outputId": "fb2430fb-7a92-47f7-a90d-e7c334881ac3"
      },
      "execution_count": 17,
      "outputs": [
        {
          "output_type": "stream",
          "name": "stdout",
          "text": [
            "Predicted Salary: $81,885.71\n",
            "Salary Range (Match Percentage = 65%): $77,791.42 - $85,979.99\n"
          ]
        }
      ]
    }
  ]
}